{
 "cells": [
  {
   "cell_type": "markdown",
   "metadata": {
    "id": "v0ALw7gaS1HS"
   },
   "source": [
    "# Taller de data quality\n",
    "\n",
    "Juan Sebastian Alvarez Eraso\n",
    "\n",
    "Código: 201822427\n",
    "\n",
    "---\n",
    "\n",
    "MINE-4101: Applied Data Science  \n",
    "Universidad de los Andes  \n",
    "  \n",
    "Dataset: Homicides Colombia  \n",
    "Source: [datos.gov.co](datos.gov.co)\n",
    "  \n",
    "Last update: September, 2022"
   ]
  },
  {
   "cell_type": "markdown",
   "source": [
    "# Configuración inicial"
   ],
   "metadata": {
    "id": "PJ4V-2vXuHWl"
   }
  },
  {
   "cell_type": "code",
   "execution_count": 44,
   "metadata": {
    "colab": {
     "base_uri": "https://localhost:8080/"
    },
    "id": "5I_3YnQbS1HT",
    "outputId": "d4c82b3c-2af0-4e41-cd51-38bce24506e6"
   },
   "outputs": [
    {
     "output_type": "stream",
     "name": "stdout",
     "text": [
      "Looking in indexes: https://pypi.org/simple, https://us-python.pkg.dev/colab-wheels/public/simple/\n",
      "Requirement already satisfied: pylev in /usr/local/lib/python3.7/dist-packages (1.4.0)\n"
     ]
    }
   ],
   "source": [
    "!pip install pylev"
   ]
  },
  {
   "cell_type": "code",
   "execution_count": 45,
   "metadata": {
    "id": "7o8GNZbNS1HU"
   },
   "outputs": [],
   "source": [
    "# Importing required libraries\n",
    "import re\n",
    "from random import randint\n",
    "from datetime import datetime\n",
    "\n",
    "import numpy as np\n",
    "import pandas as pd\n",
    "\n",
    "import pylev"
   ]
  },
  {
   "cell_type": "code",
   "execution_count": 46,
   "metadata": {
    "id": "v-sjqLM0S1HU"
   },
   "outputs": [],
   "source": [
    "# Parameter for showing all columns when printing a dataframe\n",
    "pd.set_option('display.max_columns', None)"
   ]
  },
  {
   "cell_type": "markdown",
   "source": [
    "# Cargar dataset"
   ],
   "metadata": {
    "id": "H_KkFWkmuNSP"
   }
  },
  {
   "cell_type": "code",
   "execution_count": 47,
   "metadata": {
    "id": "urxLWREpS1HV"
   },
   "outputs": [],
   "source": [
    "# Loading data\n",
    "homicides_df = pd.read_csv(\"https://raw.githubusercontent.com/juanalvarez123/MINE-4101-taller-data-quality/main/Dataset/homicides.csv\", sep = ',')"
   ]
  },
  {
   "cell_type": "code",
   "execution_count": 48,
   "metadata": {
    "colab": {
     "base_uri": "https://localhost:8080/"
    },
    "id": "scAnbXVmS1HV",
    "outputId": "5b65189a-c694-4921-e3fa-950c02c9c42e"
   },
   "outputs": [
    {
     "output_type": "execute_result",
     "data": {
      "text/plain": [
       "(12400, 22)"
      ]
     },
     "metadata": {},
     "execution_count": 48
    }
   ],
   "source": [
    "# Printing the dataset dimensions\n",
    "homicides_df.shape"
   ]
  },
  {
   "cell_type": "code",
   "execution_count": 49,
   "metadata": {
    "colab": {
     "base_uri": "https://localhost:8080/"
    },
    "id": "47D6dFfAS1HW",
    "outputId": "5dd22687-c2c6-4d45-aa4b-7108c1267ca3"
   },
   "outputs": [
    {
     "output_type": "execute_result",
     "data": {
      "text/plain": [
       "FECHA                 object\n",
       "DEPARTAMENTO          object\n",
       "MUNICIPIO             object\n",
       "DIA                   object\n",
       "HORA                  object\n",
       "BARRIO                object\n",
       "ZONA                  object\n",
       "CLASE DE SITIO        object\n",
       "ARMA O MEDIO          object\n",
       "MOVIL VICTIMA         object\n",
       "MOVIL AGRESOR         object\n",
       "EDAD                 float64\n",
       "GENERO                object\n",
       "ESTADO CIVIL          object\n",
       "CLASE EMPLEADO        object\n",
       "PROFESION             object\n",
       "ESCOLARIDAD           object\n",
       "PAIS NACE             object\n",
       "CODIGO DANE          float64\n",
       "AÑO DE NACIMIENTO    float64\n",
       "CÉDULA                object\n",
       "CORREO                object\n",
       "dtype: object"
      ]
     },
     "metadata": {},
     "execution_count": 49
    }
   ],
   "source": [
    "# Printing column data types\n",
    "homicides_df.dtypes"
   ]
  },
  {
   "cell_type": "code",
   "execution_count": 50,
   "metadata": {
    "colab": {
     "base_uri": "https://localhost:8080/",
     "height": 461
    },
    "id": "8J0zQkhqS1HW",
    "outputId": "8710e8aa-de88-4a1d-c7c3-3df9552b0171"
   },
   "outputs": [
    {
     "output_type": "execute_result",
     "data": {
      "text/plain": [
       "                    FECHA DEPARTAMENTO      MUNICIPIO     DIA   HORA  \\\n",
       "0  01/01/2021 12:00:00 AM    ANTIOQUIA          AMAGÁ  Jueves   6:00   \n",
       "1  01/01/2021 12:00:00 AM    ANTIOQUIA        BARBOSA  Jueves   9:00   \n",
       "2  01/01/2021 12:00:00 AM    ANTIOQUIA       EL BAGRE  Jueves  19:00   \n",
       "3  01/01/2021 12:00:00 AM    ANTIOQUIA         JARDÍN  Jueves  11:20   \n",
       "4  01/01/2021 12:00:00 AM    ANTIOQUIA  MEDELLÍN (CT)   Juees  15:00   \n",
       "\n",
       "                     BARRIO    ZONA                      CLASE DE SITIO  \\\n",
       "0                 EL VOLCAN   RURAL                              TIENDA   \n",
       "1            VDA. MATASANOS   RURAL                       VIAS PUBLICAS   \n",
       "2             PUERTO CLAVER   RURAL                  FINCAS Y SIMILARES   \n",
       "3                CRISTIANIA   RURAL                  FINCAS Y SIMILARES   \n",
       "4  PICACHITO CNO REPORTADO6  URBANA  FRENTE A RESIDENCIAS - VIA PUBLICA   \n",
       "\n",
       "   ARMA O MEDIO MOVIL VICTIMA MOVIL AGRESOR  EDAD     GENERO ESTADO CIVIL  \\\n",
       "0   ARMA BLANCA         A PIE         A PIE  44.0  MASCULINO       CASADO   \n",
       "1   ARMA BLANCA         A PIE         A PIE  30.0  MASCULINO      SOLTERO   \n",
       "2   ARMA BLANCA         A PIE         A PIE  33.0  MASCULINO  UNION LIBRE   \n",
       "3   ARMA BLANCA         A PIE         A PIE  40.0  MASCULINO       CASADO   \n",
       "4  CONTUNDENTES         A PIE         A PIE  66.0  MASCULINO  UNION LIBRE   \n",
       "\n",
       "  CLASE EMPLEADO     PROFESION ESCOLARIDAD     PAIS NACE  CODIGO DANE  \\\n",
       "0  INDEPENDIENTE  NO REPORTADO    PRIMARIA      COLOMBIA    5030000.0   \n",
       "1    DESEMPLEADO  NO REPORTADO  SECUNDARIA  NO REPORTADO    5079000.0   \n",
       "2     AGRICULTOR  NO REPORTADO    PRIMARIA      COLOMBIA    5250000.0   \n",
       "3     AGRICULTOR  NO REPORTADO    PRIMARIA      COLOMBIA    5364000.0   \n",
       "4    DESEMPLEADO  NO REPORTADO    PRIMARIA      COLOMBIA    5001000.0   \n",
       "\n",
       "   AÑO DE NACIMIENTO  CÉDULA                      CORREO  \n",
       "0             1971.0  42-908  agbnqg2122@unidatos.edu.co  \n",
       "1             1985.0  15-183        rbkeui3584@gmail.com  \n",
       "2             1982.0  84-786  aorkhf9155@unidatos.edu.co  \n",
       "3             1975.0  31-289  dhtemr6623@unidatos.edu.co  \n",
       "4             1949.0  66-363  artatj9268@unidatos.edu.co  "
      ],
      "text/html": [
       "\n",
       "  <div id=\"df-bbf6db98-9b11-42e3-80b0-b7d55735dd08\">\n",
       "    <div class=\"colab-df-container\">\n",
       "      <div>\n",
       "<style scoped>\n",
       "    .dataframe tbody tr th:only-of-type {\n",
       "        vertical-align: middle;\n",
       "    }\n",
       "\n",
       "    .dataframe tbody tr th {\n",
       "        vertical-align: top;\n",
       "    }\n",
       "\n",
       "    .dataframe thead th {\n",
       "        text-align: right;\n",
       "    }\n",
       "</style>\n",
       "<table border=\"1\" class=\"dataframe\">\n",
       "  <thead>\n",
       "    <tr style=\"text-align: right;\">\n",
       "      <th></th>\n",
       "      <th>FECHA</th>\n",
       "      <th>DEPARTAMENTO</th>\n",
       "      <th>MUNICIPIO</th>\n",
       "      <th>DIA</th>\n",
       "      <th>HORA</th>\n",
       "      <th>BARRIO</th>\n",
       "      <th>ZONA</th>\n",
       "      <th>CLASE DE SITIO</th>\n",
       "      <th>ARMA O MEDIO</th>\n",
       "      <th>MOVIL VICTIMA</th>\n",
       "      <th>MOVIL AGRESOR</th>\n",
       "      <th>EDAD</th>\n",
       "      <th>GENERO</th>\n",
       "      <th>ESTADO CIVIL</th>\n",
       "      <th>CLASE EMPLEADO</th>\n",
       "      <th>PROFESION</th>\n",
       "      <th>ESCOLARIDAD</th>\n",
       "      <th>PAIS NACE</th>\n",
       "      <th>CODIGO DANE</th>\n",
       "      <th>AÑO DE NACIMIENTO</th>\n",
       "      <th>CÉDULA</th>\n",
       "      <th>CORREO</th>\n",
       "    </tr>\n",
       "  </thead>\n",
       "  <tbody>\n",
       "    <tr>\n",
       "      <th>0</th>\n",
       "      <td>01/01/2021 12:00:00 AM</td>\n",
       "      <td>ANTIOQUIA</td>\n",
       "      <td>AMAGÁ</td>\n",
       "      <td>Jueves</td>\n",
       "      <td>6:00</td>\n",
       "      <td>EL VOLCAN</td>\n",
       "      <td>RURAL</td>\n",
       "      <td>TIENDA</td>\n",
       "      <td>ARMA BLANCA</td>\n",
       "      <td>A PIE</td>\n",
       "      <td>A PIE</td>\n",
       "      <td>44.0</td>\n",
       "      <td>MASCULINO</td>\n",
       "      <td>CASADO</td>\n",
       "      <td>INDEPENDIENTE</td>\n",
       "      <td>NO REPORTADO</td>\n",
       "      <td>PRIMARIA</td>\n",
       "      <td>COLOMBIA</td>\n",
       "      <td>5030000.0</td>\n",
       "      <td>1971.0</td>\n",
       "      <td>42-908</td>\n",
       "      <td>agbnqg2122@unidatos.edu.co</td>\n",
       "    </tr>\n",
       "    <tr>\n",
       "      <th>1</th>\n",
       "      <td>01/01/2021 12:00:00 AM</td>\n",
       "      <td>ANTIOQUIA</td>\n",
       "      <td>BARBOSA</td>\n",
       "      <td>Jueves</td>\n",
       "      <td>9:00</td>\n",
       "      <td>VDA. MATASANOS</td>\n",
       "      <td>RURAL</td>\n",
       "      <td>VIAS PUBLICAS</td>\n",
       "      <td>ARMA BLANCA</td>\n",
       "      <td>A PIE</td>\n",
       "      <td>A PIE</td>\n",
       "      <td>30.0</td>\n",
       "      <td>MASCULINO</td>\n",
       "      <td>SOLTERO</td>\n",
       "      <td>DESEMPLEADO</td>\n",
       "      <td>NO REPORTADO</td>\n",
       "      <td>SECUNDARIA</td>\n",
       "      <td>NO REPORTADO</td>\n",
       "      <td>5079000.0</td>\n",
       "      <td>1985.0</td>\n",
       "      <td>15-183</td>\n",
       "      <td>rbkeui3584@gmail.com</td>\n",
       "    </tr>\n",
       "    <tr>\n",
       "      <th>2</th>\n",
       "      <td>01/01/2021 12:00:00 AM</td>\n",
       "      <td>ANTIOQUIA</td>\n",
       "      <td>EL BAGRE</td>\n",
       "      <td>Jueves</td>\n",
       "      <td>19:00</td>\n",
       "      <td>PUERTO CLAVER</td>\n",
       "      <td>RURAL</td>\n",
       "      <td>FINCAS Y SIMILARES</td>\n",
       "      <td>ARMA BLANCA</td>\n",
       "      <td>A PIE</td>\n",
       "      <td>A PIE</td>\n",
       "      <td>33.0</td>\n",
       "      <td>MASCULINO</td>\n",
       "      <td>UNION LIBRE</td>\n",
       "      <td>AGRICULTOR</td>\n",
       "      <td>NO REPORTADO</td>\n",
       "      <td>PRIMARIA</td>\n",
       "      <td>COLOMBIA</td>\n",
       "      <td>5250000.0</td>\n",
       "      <td>1982.0</td>\n",
       "      <td>84-786</td>\n",
       "      <td>aorkhf9155@unidatos.edu.co</td>\n",
       "    </tr>\n",
       "    <tr>\n",
       "      <th>3</th>\n",
       "      <td>01/01/2021 12:00:00 AM</td>\n",
       "      <td>ANTIOQUIA</td>\n",
       "      <td>JARDÍN</td>\n",
       "      <td>Jueves</td>\n",
       "      <td>11:20</td>\n",
       "      <td>CRISTIANIA</td>\n",
       "      <td>RURAL</td>\n",
       "      <td>FINCAS Y SIMILARES</td>\n",
       "      <td>ARMA BLANCA</td>\n",
       "      <td>A PIE</td>\n",
       "      <td>A PIE</td>\n",
       "      <td>40.0</td>\n",
       "      <td>MASCULINO</td>\n",
       "      <td>CASADO</td>\n",
       "      <td>AGRICULTOR</td>\n",
       "      <td>NO REPORTADO</td>\n",
       "      <td>PRIMARIA</td>\n",
       "      <td>COLOMBIA</td>\n",
       "      <td>5364000.0</td>\n",
       "      <td>1975.0</td>\n",
       "      <td>31-289</td>\n",
       "      <td>dhtemr6623@unidatos.edu.co</td>\n",
       "    </tr>\n",
       "    <tr>\n",
       "      <th>4</th>\n",
       "      <td>01/01/2021 12:00:00 AM</td>\n",
       "      <td>ANTIOQUIA</td>\n",
       "      <td>MEDELLÍN (CT)</td>\n",
       "      <td>Juees</td>\n",
       "      <td>15:00</td>\n",
       "      <td>PICACHITO CNO REPORTADO6</td>\n",
       "      <td>URBANA</td>\n",
       "      <td>FRENTE A RESIDENCIAS - VIA PUBLICA</td>\n",
       "      <td>CONTUNDENTES</td>\n",
       "      <td>A PIE</td>\n",
       "      <td>A PIE</td>\n",
       "      <td>66.0</td>\n",
       "      <td>MASCULINO</td>\n",
       "      <td>UNION LIBRE</td>\n",
       "      <td>DESEMPLEADO</td>\n",
       "      <td>NO REPORTADO</td>\n",
       "      <td>PRIMARIA</td>\n",
       "      <td>COLOMBIA</td>\n",
       "      <td>5001000.0</td>\n",
       "      <td>1949.0</td>\n",
       "      <td>66-363</td>\n",
       "      <td>artatj9268@unidatos.edu.co</td>\n",
       "    </tr>\n",
       "  </tbody>\n",
       "</table>\n",
       "</div>\n",
       "      <button class=\"colab-df-convert\" onclick=\"convertToInteractive('df-bbf6db98-9b11-42e3-80b0-b7d55735dd08')\"\n",
       "              title=\"Convert this dataframe to an interactive table.\"\n",
       "              style=\"display:none;\">\n",
       "        \n",
       "  <svg xmlns=\"http://www.w3.org/2000/svg\" height=\"24px\"viewBox=\"0 0 24 24\"\n",
       "       width=\"24px\">\n",
       "    <path d=\"M0 0h24v24H0V0z\" fill=\"none\"/>\n",
       "    <path d=\"M18.56 5.44l.94 2.06.94-2.06 2.06-.94-2.06-.94-.94-2.06-.94 2.06-2.06.94zm-11 1L8.5 8.5l.94-2.06 2.06-.94-2.06-.94L8.5 2.5l-.94 2.06-2.06.94zm10 10l.94 2.06.94-2.06 2.06-.94-2.06-.94-.94-2.06-.94 2.06-2.06.94z\"/><path d=\"M17.41 7.96l-1.37-1.37c-.4-.4-.92-.59-1.43-.59-.52 0-1.04.2-1.43.59L10.3 9.45l-7.72 7.72c-.78.78-.78 2.05 0 2.83L4 21.41c.39.39.9.59 1.41.59.51 0 1.02-.2 1.41-.59l7.78-7.78 2.81-2.81c.8-.78.8-2.07 0-2.86zM5.41 20L4 18.59l7.72-7.72 1.47 1.35L5.41 20z\"/>\n",
       "  </svg>\n",
       "      </button>\n",
       "      \n",
       "  <style>\n",
       "    .colab-df-container {\n",
       "      display:flex;\n",
       "      flex-wrap:wrap;\n",
       "      gap: 12px;\n",
       "    }\n",
       "\n",
       "    .colab-df-convert {\n",
       "      background-color: #E8F0FE;\n",
       "      border: none;\n",
       "      border-radius: 50%;\n",
       "      cursor: pointer;\n",
       "      display: none;\n",
       "      fill: #1967D2;\n",
       "      height: 32px;\n",
       "      padding: 0 0 0 0;\n",
       "      width: 32px;\n",
       "    }\n",
       "\n",
       "    .colab-df-convert:hover {\n",
       "      background-color: #E2EBFA;\n",
       "      box-shadow: 0px 1px 2px rgba(60, 64, 67, 0.3), 0px 1px 3px 1px rgba(60, 64, 67, 0.15);\n",
       "      fill: #174EA6;\n",
       "    }\n",
       "\n",
       "    [theme=dark] .colab-df-convert {\n",
       "      background-color: #3B4455;\n",
       "      fill: #D2E3FC;\n",
       "    }\n",
       "\n",
       "    [theme=dark] .colab-df-convert:hover {\n",
       "      background-color: #434B5C;\n",
       "      box-shadow: 0px 1px 3px 1px rgba(0, 0, 0, 0.15);\n",
       "      filter: drop-shadow(0px 1px 2px rgba(0, 0, 0, 0.3));\n",
       "      fill: #FFFFFF;\n",
       "    }\n",
       "  </style>\n",
       "\n",
       "      <script>\n",
       "        const buttonEl =\n",
       "          document.querySelector('#df-bbf6db98-9b11-42e3-80b0-b7d55735dd08 button.colab-df-convert');\n",
       "        buttonEl.style.display =\n",
       "          google.colab.kernel.accessAllowed ? 'block' : 'none';\n",
       "\n",
       "        async function convertToInteractive(key) {\n",
       "          const element = document.querySelector('#df-bbf6db98-9b11-42e3-80b0-b7d55735dd08');\n",
       "          const dataTable =\n",
       "            await google.colab.kernel.invokeFunction('convertToInteractive',\n",
       "                                                     [key], {});\n",
       "          if (!dataTable) return;\n",
       "\n",
       "          const docLinkHtml = 'Like what you see? Visit the ' +\n",
       "            '<a target=\"_blank\" href=https://colab.research.google.com/notebooks/data_table.ipynb>data table notebook</a>'\n",
       "            + ' to learn more about interactive tables.';\n",
       "          element.innerHTML = '';\n",
       "          dataTable['output_type'] = 'display_data';\n",
       "          await google.colab.output.renderOutput(dataTable, element);\n",
       "          const docLink = document.createElement('div');\n",
       "          docLink.innerHTML = docLinkHtml;\n",
       "          element.appendChild(docLink);\n",
       "        }\n",
       "      </script>\n",
       "    </div>\n",
       "  </div>\n",
       "  "
      ]
     },
     "metadata": {},
     "execution_count": 50
    }
   ],
   "source": [
    "homicides_df.head(5)"
   ]
  },
  {
   "cell_type": "markdown",
   "source": [
    "# Manipulando las columnas \"FECHA\" y \"HORA\""
   ],
   "metadata": {
    "id": "JP-f68DJuRor"
   }
  },
  {
   "cell_type": "code",
   "execution_count": 51,
   "metadata": {
    "id": "3fxvzj46S1HX"
   },
   "outputs": [],
   "source": [
    "# Creating a lambda expression for datetime parsing\n",
    "dateparse = lambda x: datetime.strptime(x, \"%m/%d/%Y %H:%M:%S %p\")"
   ]
  },
  {
   "cell_type": "code",
   "execution_count": 52,
   "metadata": {
    "id": "IDLf5ERjS1HX"
   },
   "outputs": [],
   "source": [
    "# Applying the validation to all values in column\n",
    "# homicides_df[\"FECHA\"].apply(dateparse)\n",
    "\n",
    "# IT IS EXPECTED TO HAVE AN ERROR INTENTIONALLY"
   ]
  },
  {
   "cell_type": "markdown",
   "source": [
    "La ejecución del bloque anterior lanza un error:\n",
    "\n",
    "```bash\n",
    "---------------------------------------------------------------------------\n",
    "ValueError                                Traceback (most recent call last)\n",
    "<ipython-input-9-4adcb6515e66> in <module>\n",
    "      1 # Applying the validation to all values in column\n",
    "----> 2 homicides_df[\"FECHA\"].apply(dateparse)\n",
    "      3 \n",
    "      4 # IT IS EXPECTED TO HAVE AN ERROR INTENTIONALLY\n",
    "\n",
    "6 frames\n",
    "/usr/lib/python3.7/_strptime.py in _strptime(data_string, format)\n",
    "    357     if not found:\n",
    "    358         raise ValueError(\"time data %r does not match format %r\" %\n",
    "--> 359                          (data_string, format))\n",
    "    360     if len(data_string) != found.end():\n",
    "    361         raise ValueError(\"unconverted data remains: %s\" %\n",
    "\n",
    "ValueError: time data 'TOTAL' does not match format '%m/%d/%Y %H:%M:%S %p'\n",
    "```"
   ],
   "metadata": {
    "id": "4f5OXtqmX4Ck"
   }
  },
  {
   "cell_type": "code",
   "execution_count": 53,
   "metadata": {
    "id": "EWvLVV6hS1HY"
   },
   "outputs": [],
   "source": [
    "# Creating a function for validating which value is causing the previous error\n",
    "def error_in_format(x):\n",
    "    try:\n",
    "        datetime.strptime(x, \"%m/%d/%Y %H:%M:%S %p\")\n",
    "        return False\n",
    "    except:\n",
    "        return True"
   ]
  },
  {
   "cell_type": "code",
   "execution_count": 54,
   "metadata": {
    "colab": {
     "base_uri": "https://localhost:8080/",
     "height": 179
    },
    "id": "iVpvgH64S1HY",
    "outputId": "028d94ab-b342-4197-cfe9-b22966c2e774"
   },
   "outputs": [
    {
     "output_type": "execute_result",
     "data": {
      "text/plain": [
       "       FECHA DEPARTAMENTO MUNICIPIO  DIA HORA BARRIO ZONA CLASE DE SITIO  \\\n",
       "12399  TOTAL          NaN       NaN  NaN  NaN    NaN  NaN            NaN   \n",
       "\n",
       "      ARMA O MEDIO MOVIL VICTIMA MOVIL AGRESOR  EDAD GENERO ESTADO CIVIL  \\\n",
       "12399          NaN           NaN           NaN   NaN    NaN          NaN   \n",
       "\n",
       "      CLASE EMPLEADO PROFESION ESCOLARIDAD PAIS NACE  CODIGO DANE  \\\n",
       "12399            NaN       NaN         NaN       NaN          NaN   \n",
       "\n",
       "       AÑO DE NACIMIENTO CÉDULA CORREO  \n",
       "12399                NaN    NaN    NaN  "
      ],
      "text/html": [
       "\n",
       "  <div id=\"df-f4f483ea-6666-46a9-835d-10d6c74b91dd\">\n",
       "    <div class=\"colab-df-container\">\n",
       "      <div>\n",
       "<style scoped>\n",
       "    .dataframe tbody tr th:only-of-type {\n",
       "        vertical-align: middle;\n",
       "    }\n",
       "\n",
       "    .dataframe tbody tr th {\n",
       "        vertical-align: top;\n",
       "    }\n",
       "\n",
       "    .dataframe thead th {\n",
       "        text-align: right;\n",
       "    }\n",
       "</style>\n",
       "<table border=\"1\" class=\"dataframe\">\n",
       "  <thead>\n",
       "    <tr style=\"text-align: right;\">\n",
       "      <th></th>\n",
       "      <th>FECHA</th>\n",
       "      <th>DEPARTAMENTO</th>\n",
       "      <th>MUNICIPIO</th>\n",
       "      <th>DIA</th>\n",
       "      <th>HORA</th>\n",
       "      <th>BARRIO</th>\n",
       "      <th>ZONA</th>\n",
       "      <th>CLASE DE SITIO</th>\n",
       "      <th>ARMA O MEDIO</th>\n",
       "      <th>MOVIL VICTIMA</th>\n",
       "      <th>MOVIL AGRESOR</th>\n",
       "      <th>EDAD</th>\n",
       "      <th>GENERO</th>\n",
       "      <th>ESTADO CIVIL</th>\n",
       "      <th>CLASE EMPLEADO</th>\n",
       "      <th>PROFESION</th>\n",
       "      <th>ESCOLARIDAD</th>\n",
       "      <th>PAIS NACE</th>\n",
       "      <th>CODIGO DANE</th>\n",
       "      <th>AÑO DE NACIMIENTO</th>\n",
       "      <th>CÉDULA</th>\n",
       "      <th>CORREO</th>\n",
       "    </tr>\n",
       "  </thead>\n",
       "  <tbody>\n",
       "    <tr>\n",
       "      <th>12399</th>\n",
       "      <td>TOTAL</td>\n",
       "      <td>NaN</td>\n",
       "      <td>NaN</td>\n",
       "      <td>NaN</td>\n",
       "      <td>NaN</td>\n",
       "      <td>NaN</td>\n",
       "      <td>NaN</td>\n",
       "      <td>NaN</td>\n",
       "      <td>NaN</td>\n",
       "      <td>NaN</td>\n",
       "      <td>NaN</td>\n",
       "      <td>NaN</td>\n",
       "      <td>NaN</td>\n",
       "      <td>NaN</td>\n",
       "      <td>NaN</td>\n",
       "      <td>NaN</td>\n",
       "      <td>NaN</td>\n",
       "      <td>NaN</td>\n",
       "      <td>NaN</td>\n",
       "      <td>NaN</td>\n",
       "      <td>NaN</td>\n",
       "      <td>NaN</td>\n",
       "    </tr>\n",
       "  </tbody>\n",
       "</table>\n",
       "</div>\n",
       "      <button class=\"colab-df-convert\" onclick=\"convertToInteractive('df-f4f483ea-6666-46a9-835d-10d6c74b91dd')\"\n",
       "              title=\"Convert this dataframe to an interactive table.\"\n",
       "              style=\"display:none;\">\n",
       "        \n",
       "  <svg xmlns=\"http://www.w3.org/2000/svg\" height=\"24px\"viewBox=\"0 0 24 24\"\n",
       "       width=\"24px\">\n",
       "    <path d=\"M0 0h24v24H0V0z\" fill=\"none\"/>\n",
       "    <path d=\"M18.56 5.44l.94 2.06.94-2.06 2.06-.94-2.06-.94-.94-2.06-.94 2.06-2.06.94zm-11 1L8.5 8.5l.94-2.06 2.06-.94-2.06-.94L8.5 2.5l-.94 2.06-2.06.94zm10 10l.94 2.06.94-2.06 2.06-.94-2.06-.94-.94-2.06-.94 2.06-2.06.94z\"/><path d=\"M17.41 7.96l-1.37-1.37c-.4-.4-.92-.59-1.43-.59-.52 0-1.04.2-1.43.59L10.3 9.45l-7.72 7.72c-.78.78-.78 2.05 0 2.83L4 21.41c.39.39.9.59 1.41.59.51 0 1.02-.2 1.41-.59l7.78-7.78 2.81-2.81c.8-.78.8-2.07 0-2.86zM5.41 20L4 18.59l7.72-7.72 1.47 1.35L5.41 20z\"/>\n",
       "  </svg>\n",
       "      </button>\n",
       "      \n",
       "  <style>\n",
       "    .colab-df-container {\n",
       "      display:flex;\n",
       "      flex-wrap:wrap;\n",
       "      gap: 12px;\n",
       "    }\n",
       "\n",
       "    .colab-df-convert {\n",
       "      background-color: #E8F0FE;\n",
       "      border: none;\n",
       "      border-radius: 50%;\n",
       "      cursor: pointer;\n",
       "      display: none;\n",
       "      fill: #1967D2;\n",
       "      height: 32px;\n",
       "      padding: 0 0 0 0;\n",
       "      width: 32px;\n",
       "    }\n",
       "\n",
       "    .colab-df-convert:hover {\n",
       "      background-color: #E2EBFA;\n",
       "      box-shadow: 0px 1px 2px rgba(60, 64, 67, 0.3), 0px 1px 3px 1px rgba(60, 64, 67, 0.15);\n",
       "      fill: #174EA6;\n",
       "    }\n",
       "\n",
       "    [theme=dark] .colab-df-convert {\n",
       "      background-color: #3B4455;\n",
       "      fill: #D2E3FC;\n",
       "    }\n",
       "\n",
       "    [theme=dark] .colab-df-convert:hover {\n",
       "      background-color: #434B5C;\n",
       "      box-shadow: 0px 1px 3px 1px rgba(0, 0, 0, 0.15);\n",
       "      filter: drop-shadow(0px 1px 2px rgba(0, 0, 0, 0.3));\n",
       "      fill: #FFFFFF;\n",
       "    }\n",
       "  </style>\n",
       "\n",
       "      <script>\n",
       "        const buttonEl =\n",
       "          document.querySelector('#df-f4f483ea-6666-46a9-835d-10d6c74b91dd button.colab-df-convert');\n",
       "        buttonEl.style.display =\n",
       "          google.colab.kernel.accessAllowed ? 'block' : 'none';\n",
       "\n",
       "        async function convertToInteractive(key) {\n",
       "          const element = document.querySelector('#df-f4f483ea-6666-46a9-835d-10d6c74b91dd');\n",
       "          const dataTable =\n",
       "            await google.colab.kernel.invokeFunction('convertToInteractive',\n",
       "                                                     [key], {});\n",
       "          if (!dataTable) return;\n",
       "\n",
       "          const docLinkHtml = 'Like what you see? Visit the ' +\n",
       "            '<a target=\"_blank\" href=https://colab.research.google.com/notebooks/data_table.ipynb>data table notebook</a>'\n",
       "            + ' to learn more about interactive tables.';\n",
       "          element.innerHTML = '';\n",
       "          dataTable['output_type'] = 'display_data';\n",
       "          await google.colab.output.renderOutput(dataTable, element);\n",
       "          const docLink = document.createElement('div');\n",
       "          docLink.innerHTML = docLinkHtml;\n",
       "          element.appendChild(docLink);\n",
       "        }\n",
       "      </script>\n",
       "    </div>\n",
       "  </div>\n",
       "  "
      ]
     },
     "metadata": {},
     "execution_count": 54
    }
   ],
   "source": [
    "# Using the function for validation\n",
    "homicides_df.loc[homicides_df[\"FECHA\"].apply(error_in_format)]"
   ]
  },
  {
   "cell_type": "markdown",
   "source": [
    "La última fila está causando el error"
   ],
   "metadata": {
    "id": "DTGxR1iptbOb"
   }
  },
  {
   "cell_type": "code",
   "execution_count": 55,
   "metadata": {
    "id": "qVt3ht-rS1HY"
   },
   "outputs": [],
   "source": [
    "# Deleting a row by its index\n",
    "homicides_df.drop(12399, inplace = True)"
   ]
  },
  {
   "cell_type": "code",
   "execution_count": 56,
   "metadata": {
    "id": "R3ceGp1XS1HZ"
   },
   "outputs": [],
   "source": [
    "# Trying to parse the datetime string again\n",
    "homicides_df[\"FECHA\"] = homicides_df[\"FECHA\"].apply(dateparse)"
   ]
  },
  {
   "cell_type": "code",
   "execution_count": 57,
   "metadata": {
    "colab": {
     "base_uri": "https://localhost:8080/"
    },
    "id": "dcHwsas9S1HZ",
    "outputId": "0fb405f6-b55c-469b-d17e-52b8020dfdc4"
   },
   "outputs": [
    {
     "output_type": "execute_result",
     "data": {
      "text/plain": [
       "12    12399\n",
       "Name: FECHA, dtype: int64"
      ]
     },
     "metadata": {},
     "execution_count": 57
    }
   ],
   "source": [
    "# Counting homicides by hour\n",
    "homicides_df[\"FECHA\"].dt.hour.value_counts()"
   ]
  },
  {
   "cell_type": "markdown",
   "source": [
    "Todas las horas de la columna \"FECHA\" están seteadas a las 12:00:00 por eso el resultado de las \"horas\" dentro de la columna \"FECHA\" es siempre 12"
   ],
   "metadata": {
    "id": "o17cjpgztkQD"
   }
  },
  {
   "cell_type": "code",
   "execution_count": 58,
   "metadata": {
    "id": "PjAF9T6aS1HZ"
   },
   "outputs": [],
   "source": [
    "# The homicide hour is available in a different column!\n",
    "# Merging both columns\n",
    "homicides_df[\"FECHA\"] = homicides_df[\"FECHA\"].astype(str).apply(lambda x: x[:11]) + homicides_df[\"HORA\"]"
   ]
  },
  {
   "cell_type": "code",
   "execution_count": 59,
   "metadata": {
    "id": "JGYTX0EmS1HZ"
   },
   "outputs": [],
   "source": [
    "del homicides_df[\"HORA\"]"
   ]
  },
  {
   "cell_type": "code",
   "execution_count": 60,
   "metadata": {
    "colab": {
     "base_uri": "https://localhost:8080/"
    },
    "id": "dxCwoPZAS1Ha",
    "outputId": "deda275e-dd59-4156-cba6-5abf797812d6"
   },
   "outputs": [
    {
     "output_type": "execute_result",
     "data": {
      "text/plain": [
       "0     2021-01-01 6:00\n",
       "1     2021-01-01 9:00\n",
       "2    2021-01-01 19:00\n",
       "3    2021-01-01 11:20\n",
       "4    2021-01-01 15:00\n",
       "Name: FECHA, dtype: object"
      ]
     },
     "metadata": {},
     "execution_count": 60
    }
   ],
   "source": [
    "homicides_df[\"FECHA\"].head(5)"
   ]
  },
  {
   "cell_type": "code",
   "execution_count": 61,
   "metadata": {
    "id": "wQzi9dC6S1Ha"
   },
   "outputs": [],
   "source": [
    "# Making a new expression for datetime parsing\n",
    "dateparse = lambda x: datetime.strptime(x, \"%Y-%m-%d %H:%M\")"
   ]
  },
  {
   "cell_type": "code",
   "execution_count": 62,
   "metadata": {
    "id": "PhvvR8w4S1Ha"
   },
   "outputs": [],
   "source": [
    "# Applying the expression\n",
    "homicides_df[\"FECHA\"] = homicides_df[\"FECHA\"].apply(dateparse)"
   ]
  },
  {
   "cell_type": "code",
   "execution_count": 63,
   "metadata": {
    "colab": {
     "base_uri": "https://localhost:8080/"
    },
    "id": "6ixya-WYS1Ha",
    "outputId": "fec2cdff-d6c4-4143-c14a-75e700248c50"
   },
   "outputs": [
    {
     "output_type": "execute_result",
     "data": {
      "text/plain": [
       "FECHA                datetime64[ns]\n",
       "DEPARTAMENTO                 object\n",
       "MUNICIPIO                    object\n",
       "DIA                          object\n",
       "BARRIO                       object\n",
       "ZONA                         object\n",
       "CLASE DE SITIO               object\n",
       "ARMA O MEDIO                 object\n",
       "MOVIL VICTIMA                object\n",
       "MOVIL AGRESOR                object\n",
       "EDAD                        float64\n",
       "GENERO                       object\n",
       "ESTADO CIVIL                 object\n",
       "CLASE EMPLEADO               object\n",
       "PROFESION                    object\n",
       "ESCOLARIDAD                  object\n",
       "PAIS NACE                    object\n",
       "CODIGO DANE                 float64\n",
       "AÑO DE NACIMIENTO           float64\n",
       "CÉDULA                       object\n",
       "CORREO                       object\n",
       "dtype: object"
      ]
     },
     "metadata": {},
     "execution_count": 63
    }
   ],
   "source": [
    "homicides_df.dtypes"
   ]
  },
  {
   "cell_type": "code",
   "execution_count": 64,
   "metadata": {
    "colab": {
     "base_uri": "https://localhost:8080/",
     "height": 461
    },
    "id": "MUTvGiwvS1Ha",
    "outputId": "7f4afe3c-2ff3-43ff-a6f4-e7824a009052"
   },
   "outputs": [
    {
     "output_type": "execute_result",
     "data": {
      "text/plain": [
       "                FECHA DEPARTAMENTO      MUNICIPIO     DIA  \\\n",
       "0 2021-01-01 06:00:00    ANTIOQUIA          AMAGÁ  Jueves   \n",
       "1 2021-01-01 09:00:00    ANTIOQUIA        BARBOSA  Jueves   \n",
       "2 2021-01-01 19:00:00    ANTIOQUIA       EL BAGRE  Jueves   \n",
       "3 2021-01-01 11:20:00    ANTIOQUIA         JARDÍN  Jueves   \n",
       "4 2021-01-01 15:00:00    ANTIOQUIA  MEDELLÍN (CT)   Juees   \n",
       "\n",
       "                     BARRIO    ZONA                      CLASE DE SITIO  \\\n",
       "0                 EL VOLCAN   RURAL                              TIENDA   \n",
       "1            VDA. MATASANOS   RURAL                       VIAS PUBLICAS   \n",
       "2             PUERTO CLAVER   RURAL                  FINCAS Y SIMILARES   \n",
       "3                CRISTIANIA   RURAL                  FINCAS Y SIMILARES   \n",
       "4  PICACHITO CNO REPORTADO6  URBANA  FRENTE A RESIDENCIAS - VIA PUBLICA   \n",
       "\n",
       "   ARMA O MEDIO MOVIL VICTIMA MOVIL AGRESOR  EDAD     GENERO ESTADO CIVIL  \\\n",
       "0   ARMA BLANCA         A PIE         A PIE  44.0  MASCULINO       CASADO   \n",
       "1   ARMA BLANCA         A PIE         A PIE  30.0  MASCULINO      SOLTERO   \n",
       "2   ARMA BLANCA         A PIE         A PIE  33.0  MASCULINO  UNION LIBRE   \n",
       "3   ARMA BLANCA         A PIE         A PIE  40.0  MASCULINO       CASADO   \n",
       "4  CONTUNDENTES         A PIE         A PIE  66.0  MASCULINO  UNION LIBRE   \n",
       "\n",
       "  CLASE EMPLEADO     PROFESION ESCOLARIDAD     PAIS NACE  CODIGO DANE  \\\n",
       "0  INDEPENDIENTE  NO REPORTADO    PRIMARIA      COLOMBIA    5030000.0   \n",
       "1    DESEMPLEADO  NO REPORTADO  SECUNDARIA  NO REPORTADO    5079000.0   \n",
       "2     AGRICULTOR  NO REPORTADO    PRIMARIA      COLOMBIA    5250000.0   \n",
       "3     AGRICULTOR  NO REPORTADO    PRIMARIA      COLOMBIA    5364000.0   \n",
       "4    DESEMPLEADO  NO REPORTADO    PRIMARIA      COLOMBIA    5001000.0   \n",
       "\n",
       "   AÑO DE NACIMIENTO  CÉDULA                      CORREO  \n",
       "0             1971.0  42-908  agbnqg2122@unidatos.edu.co  \n",
       "1             1985.0  15-183        rbkeui3584@gmail.com  \n",
       "2             1982.0  84-786  aorkhf9155@unidatos.edu.co  \n",
       "3             1975.0  31-289  dhtemr6623@unidatos.edu.co  \n",
       "4             1949.0  66-363  artatj9268@unidatos.edu.co  "
      ],
      "text/html": [
       "\n",
       "  <div id=\"df-0107eae4-72df-4c80-bc83-7cca9926f989\">\n",
       "    <div class=\"colab-df-container\">\n",
       "      <div>\n",
       "<style scoped>\n",
       "    .dataframe tbody tr th:only-of-type {\n",
       "        vertical-align: middle;\n",
       "    }\n",
       "\n",
       "    .dataframe tbody tr th {\n",
       "        vertical-align: top;\n",
       "    }\n",
       "\n",
       "    .dataframe thead th {\n",
       "        text-align: right;\n",
       "    }\n",
       "</style>\n",
       "<table border=\"1\" class=\"dataframe\">\n",
       "  <thead>\n",
       "    <tr style=\"text-align: right;\">\n",
       "      <th></th>\n",
       "      <th>FECHA</th>\n",
       "      <th>DEPARTAMENTO</th>\n",
       "      <th>MUNICIPIO</th>\n",
       "      <th>DIA</th>\n",
       "      <th>BARRIO</th>\n",
       "      <th>ZONA</th>\n",
       "      <th>CLASE DE SITIO</th>\n",
       "      <th>ARMA O MEDIO</th>\n",
       "      <th>MOVIL VICTIMA</th>\n",
       "      <th>MOVIL AGRESOR</th>\n",
       "      <th>EDAD</th>\n",
       "      <th>GENERO</th>\n",
       "      <th>ESTADO CIVIL</th>\n",
       "      <th>CLASE EMPLEADO</th>\n",
       "      <th>PROFESION</th>\n",
       "      <th>ESCOLARIDAD</th>\n",
       "      <th>PAIS NACE</th>\n",
       "      <th>CODIGO DANE</th>\n",
       "      <th>AÑO DE NACIMIENTO</th>\n",
       "      <th>CÉDULA</th>\n",
       "      <th>CORREO</th>\n",
       "    </tr>\n",
       "  </thead>\n",
       "  <tbody>\n",
       "    <tr>\n",
       "      <th>0</th>\n",
       "      <td>2021-01-01 06:00:00</td>\n",
       "      <td>ANTIOQUIA</td>\n",
       "      <td>AMAGÁ</td>\n",
       "      <td>Jueves</td>\n",
       "      <td>EL VOLCAN</td>\n",
       "      <td>RURAL</td>\n",
       "      <td>TIENDA</td>\n",
       "      <td>ARMA BLANCA</td>\n",
       "      <td>A PIE</td>\n",
       "      <td>A PIE</td>\n",
       "      <td>44.0</td>\n",
       "      <td>MASCULINO</td>\n",
       "      <td>CASADO</td>\n",
       "      <td>INDEPENDIENTE</td>\n",
       "      <td>NO REPORTADO</td>\n",
       "      <td>PRIMARIA</td>\n",
       "      <td>COLOMBIA</td>\n",
       "      <td>5030000.0</td>\n",
       "      <td>1971.0</td>\n",
       "      <td>42-908</td>\n",
       "      <td>agbnqg2122@unidatos.edu.co</td>\n",
       "    </tr>\n",
       "    <tr>\n",
       "      <th>1</th>\n",
       "      <td>2021-01-01 09:00:00</td>\n",
       "      <td>ANTIOQUIA</td>\n",
       "      <td>BARBOSA</td>\n",
       "      <td>Jueves</td>\n",
       "      <td>VDA. MATASANOS</td>\n",
       "      <td>RURAL</td>\n",
       "      <td>VIAS PUBLICAS</td>\n",
       "      <td>ARMA BLANCA</td>\n",
       "      <td>A PIE</td>\n",
       "      <td>A PIE</td>\n",
       "      <td>30.0</td>\n",
       "      <td>MASCULINO</td>\n",
       "      <td>SOLTERO</td>\n",
       "      <td>DESEMPLEADO</td>\n",
       "      <td>NO REPORTADO</td>\n",
       "      <td>SECUNDARIA</td>\n",
       "      <td>NO REPORTADO</td>\n",
       "      <td>5079000.0</td>\n",
       "      <td>1985.0</td>\n",
       "      <td>15-183</td>\n",
       "      <td>rbkeui3584@gmail.com</td>\n",
       "    </tr>\n",
       "    <tr>\n",
       "      <th>2</th>\n",
       "      <td>2021-01-01 19:00:00</td>\n",
       "      <td>ANTIOQUIA</td>\n",
       "      <td>EL BAGRE</td>\n",
       "      <td>Jueves</td>\n",
       "      <td>PUERTO CLAVER</td>\n",
       "      <td>RURAL</td>\n",
       "      <td>FINCAS Y SIMILARES</td>\n",
       "      <td>ARMA BLANCA</td>\n",
       "      <td>A PIE</td>\n",
       "      <td>A PIE</td>\n",
       "      <td>33.0</td>\n",
       "      <td>MASCULINO</td>\n",
       "      <td>UNION LIBRE</td>\n",
       "      <td>AGRICULTOR</td>\n",
       "      <td>NO REPORTADO</td>\n",
       "      <td>PRIMARIA</td>\n",
       "      <td>COLOMBIA</td>\n",
       "      <td>5250000.0</td>\n",
       "      <td>1982.0</td>\n",
       "      <td>84-786</td>\n",
       "      <td>aorkhf9155@unidatos.edu.co</td>\n",
       "    </tr>\n",
       "    <tr>\n",
       "      <th>3</th>\n",
       "      <td>2021-01-01 11:20:00</td>\n",
       "      <td>ANTIOQUIA</td>\n",
       "      <td>JARDÍN</td>\n",
       "      <td>Jueves</td>\n",
       "      <td>CRISTIANIA</td>\n",
       "      <td>RURAL</td>\n",
       "      <td>FINCAS Y SIMILARES</td>\n",
       "      <td>ARMA BLANCA</td>\n",
       "      <td>A PIE</td>\n",
       "      <td>A PIE</td>\n",
       "      <td>40.0</td>\n",
       "      <td>MASCULINO</td>\n",
       "      <td>CASADO</td>\n",
       "      <td>AGRICULTOR</td>\n",
       "      <td>NO REPORTADO</td>\n",
       "      <td>PRIMARIA</td>\n",
       "      <td>COLOMBIA</td>\n",
       "      <td>5364000.0</td>\n",
       "      <td>1975.0</td>\n",
       "      <td>31-289</td>\n",
       "      <td>dhtemr6623@unidatos.edu.co</td>\n",
       "    </tr>\n",
       "    <tr>\n",
       "      <th>4</th>\n",
       "      <td>2021-01-01 15:00:00</td>\n",
       "      <td>ANTIOQUIA</td>\n",
       "      <td>MEDELLÍN (CT)</td>\n",
       "      <td>Juees</td>\n",
       "      <td>PICACHITO CNO REPORTADO6</td>\n",
       "      <td>URBANA</td>\n",
       "      <td>FRENTE A RESIDENCIAS - VIA PUBLICA</td>\n",
       "      <td>CONTUNDENTES</td>\n",
       "      <td>A PIE</td>\n",
       "      <td>A PIE</td>\n",
       "      <td>66.0</td>\n",
       "      <td>MASCULINO</td>\n",
       "      <td>UNION LIBRE</td>\n",
       "      <td>DESEMPLEADO</td>\n",
       "      <td>NO REPORTADO</td>\n",
       "      <td>PRIMARIA</td>\n",
       "      <td>COLOMBIA</td>\n",
       "      <td>5001000.0</td>\n",
       "      <td>1949.0</td>\n",
       "      <td>66-363</td>\n",
       "      <td>artatj9268@unidatos.edu.co</td>\n",
       "    </tr>\n",
       "  </tbody>\n",
       "</table>\n",
       "</div>\n",
       "      <button class=\"colab-df-convert\" onclick=\"convertToInteractive('df-0107eae4-72df-4c80-bc83-7cca9926f989')\"\n",
       "              title=\"Convert this dataframe to an interactive table.\"\n",
       "              style=\"display:none;\">\n",
       "        \n",
       "  <svg xmlns=\"http://www.w3.org/2000/svg\" height=\"24px\"viewBox=\"0 0 24 24\"\n",
       "       width=\"24px\">\n",
       "    <path d=\"M0 0h24v24H0V0z\" fill=\"none\"/>\n",
       "    <path d=\"M18.56 5.44l.94 2.06.94-2.06 2.06-.94-2.06-.94-.94-2.06-.94 2.06-2.06.94zm-11 1L8.5 8.5l.94-2.06 2.06-.94-2.06-.94L8.5 2.5l-.94 2.06-2.06.94zm10 10l.94 2.06.94-2.06 2.06-.94-2.06-.94-.94-2.06-.94 2.06-2.06.94z\"/><path d=\"M17.41 7.96l-1.37-1.37c-.4-.4-.92-.59-1.43-.59-.52 0-1.04.2-1.43.59L10.3 9.45l-7.72 7.72c-.78.78-.78 2.05 0 2.83L4 21.41c.39.39.9.59 1.41.59.51 0 1.02-.2 1.41-.59l7.78-7.78 2.81-2.81c.8-.78.8-2.07 0-2.86zM5.41 20L4 18.59l7.72-7.72 1.47 1.35L5.41 20z\"/>\n",
       "  </svg>\n",
       "      </button>\n",
       "      \n",
       "  <style>\n",
       "    .colab-df-container {\n",
       "      display:flex;\n",
       "      flex-wrap:wrap;\n",
       "      gap: 12px;\n",
       "    }\n",
       "\n",
       "    .colab-df-convert {\n",
       "      background-color: #E8F0FE;\n",
       "      border: none;\n",
       "      border-radius: 50%;\n",
       "      cursor: pointer;\n",
       "      display: none;\n",
       "      fill: #1967D2;\n",
       "      height: 32px;\n",
       "      padding: 0 0 0 0;\n",
       "      width: 32px;\n",
       "    }\n",
       "\n",
       "    .colab-df-convert:hover {\n",
       "      background-color: #E2EBFA;\n",
       "      box-shadow: 0px 1px 2px rgba(60, 64, 67, 0.3), 0px 1px 3px 1px rgba(60, 64, 67, 0.15);\n",
       "      fill: #174EA6;\n",
       "    }\n",
       "\n",
       "    [theme=dark] .colab-df-convert {\n",
       "      background-color: #3B4455;\n",
       "      fill: #D2E3FC;\n",
       "    }\n",
       "\n",
       "    [theme=dark] .colab-df-convert:hover {\n",
       "      background-color: #434B5C;\n",
       "      box-shadow: 0px 1px 3px 1px rgba(0, 0, 0, 0.15);\n",
       "      filter: drop-shadow(0px 1px 2px rgba(0, 0, 0, 0.3));\n",
       "      fill: #FFFFFF;\n",
       "    }\n",
       "  </style>\n",
       "\n",
       "      <script>\n",
       "        const buttonEl =\n",
       "          document.querySelector('#df-0107eae4-72df-4c80-bc83-7cca9926f989 button.colab-df-convert');\n",
       "        buttonEl.style.display =\n",
       "          google.colab.kernel.accessAllowed ? 'block' : 'none';\n",
       "\n",
       "        async function convertToInteractive(key) {\n",
       "          const element = document.querySelector('#df-0107eae4-72df-4c80-bc83-7cca9926f989');\n",
       "          const dataTable =\n",
       "            await google.colab.kernel.invokeFunction('convertToInteractive',\n",
       "                                                     [key], {});\n",
       "          if (!dataTable) return;\n",
       "\n",
       "          const docLinkHtml = 'Like what you see? Visit the ' +\n",
       "            '<a target=\"_blank\" href=https://colab.research.google.com/notebooks/data_table.ipynb>data table notebook</a>'\n",
       "            + ' to learn more about interactive tables.';\n",
       "          element.innerHTML = '';\n",
       "          dataTable['output_type'] = 'display_data';\n",
       "          await google.colab.output.renderOutput(dataTable, element);\n",
       "          const docLink = document.createElement('div');\n",
       "          docLink.innerHTML = docLinkHtml;\n",
       "          element.appendChild(docLink);\n",
       "        }\n",
       "      </script>\n",
       "    </div>\n",
       "  </div>\n",
       "  "
      ]
     },
     "metadata": {},
     "execution_count": 64
    }
   ],
   "source": [
    "homicides_df.head(5)"
   ]
  },
  {
   "cell_type": "markdown",
   "source": [
    "# Ajustando los departamentos"
   ],
   "metadata": {
    "id": "NOPne_59ugLu"
   }
  },
  {
   "cell_type": "code",
   "execution_count": 65,
   "metadata": {
    "id": "KU1six_7S1Hb"
   },
   "outputs": [],
   "source": [
    "# Creating a dictionary representing the valid departments for Colombia\n",
    "departments_list = ['ANTIOQUIA', 'ATLÁNTICO', 'BOLÍVAR', 'BOYACÁ', 'CALDAS',\n",
    "                    'CAQUETÁ', 'CASANARE', 'CAUCA', 'CESAR', 'CHOCÓ', 'CÓRDOBA',\n",
    "                    'META', 'CUNDINAMARCA', 'HUILA', 'MAGDALENA', 'NARIÑO',\n",
    "                    'PUTUMAYO', 'RISARALDA', 'SANTANDER', 'SUCRE', 'TOLIMA',\n",
    "                    'VALLE', 'NORTE DE SANTANDER', 'GUAJIRA', 'QUINDÍO',\n",
    "                    'SAN ANDRÉS Y PROVIDENCIA', 'ARAUCA', 'GUAINÍA', 'VICHADA',\n",
    "                    'VAUPÉS', 'GUAVIARE', 'AMAZONAS']"
   ]
  },
  {
   "cell_type": "code",
   "execution_count": 66,
   "metadata": {
    "colab": {
     "base_uri": "https://localhost:8080/"
    },
    "id": "YMxkJiULS1Hb",
    "outputId": "aa7fd5e0-5e69-4c4e-a386-d6525903db36"
   },
   "outputs": [
    {
     "output_type": "execute_result",
     "data": {
      "text/plain": [
       "array(['SAN ANDRÉS', 'N. DE SANTANDER'], dtype=object)"
      ]
     },
     "metadata": {},
     "execution_count": 66
    }
   ],
   "source": [
    "# Finding values not matching with the dictionary\n",
    "homicides_df.loc[~homicides_df[\"DEPARTAMENTO\"].isin(departments_list), \"DEPARTAMENTO\"].unique()"
   ]
  },
  {
   "cell_type": "markdown",
   "metadata": {
    "id": "TeGxt3MQS1Hb"
   },
   "source": [
    "<span style=\"color:red\">TODO: Replace the values identified as error to a valid value from the dictionary</span>\n",
    "\n",
    "<span style=\"color:red\">Hint: You can use the replace() pandas function</span>"
   ]
  },
  {
   "cell_type": "code",
   "execution_count": 67,
   "metadata": {
    "colab": {
     "base_uri": "https://localhost:8080/"
    },
    "id": "a47XzMMnS1Hb",
    "outputId": "8c76c92d-01e7-4045-f123-4eecd66fd1c6"
   },
   "outputs": [
    {
     "output_type": "execute_result",
     "data": {
      "text/plain": [
       "array([], dtype=object)"
      ]
     },
     "metadata": {},
     "execution_count": 67
    }
   ],
   "source": [
    "# Busco las filas que tengan como departamentos a 'SAN ANDRÉS' y 'N. DE SANTANDER'\n",
    "# para colocar sus valores correctos\n",
    "homicides_df.loc[homicides_df['DEPARTAMENTO'] == 'SAN ANDRÉS', 'DEPARTAMENTO'] = 'SAN ANDRÉS Y PROVIDENCIA'\n",
    "homicides_df.loc[homicides_df['DEPARTAMENTO'] == 'N. DE SANTANDER'] = 'NORTE DE SANTANDER'\n",
    "\n",
    "# Valido nuevamente cuantos departamentos están por fuera de \"departments_list\"\n",
    "homicides_df.loc[~homicides_df[\"DEPARTAMENTO\"].isin(departments_list), \"DEPARTAMENTO\"].unique()"
   ]
  },
  {
   "cell_type": "markdown",
   "source": [
    "Ya no hay departamentos por fuera de \"departments_list\""
   ],
   "metadata": {
    "id": "Y_7guJxAYu9A"
   }
  },
  {
   "cell_type": "markdown",
   "source": [
    "# Duplicados y errores en la columna \"CÉDULA\""
   ],
   "metadata": {
    "id": "VcRv4U2Auk13"
   }
  },
  {
   "cell_type": "code",
   "execution_count": 68,
   "metadata": {
    "id": "ZMajYNZ4S1Hc"
   },
   "outputs": [],
   "source": [
    "# Detecting duplicates by \"CÉDULA\" column\n",
    "duplicates_by_cedula = homicides_df.loc[homicides_df[\"CÉDULA\"].duplicated(keep = False)]"
   ]
  },
  {
   "cell_type": "code",
   "execution_count": 69,
   "metadata": {
    "colab": {
     "base_uri": "https://localhost:8080/"
    },
    "id": "KCX8BgB5S1Hc",
    "outputId": "237121d1-948e-4e06-eb3a-70f8e060ed78"
   },
   "outputs": [
    {
     "output_type": "execute_result",
     "data": {
      "text/plain": [
       "(1695, 21)"
      ]
     },
     "metadata": {},
     "execution_count": 69
    }
   ],
   "source": [
    "duplicates_by_cedula.shape"
   ]
  },
  {
   "cell_type": "code",
   "execution_count": 70,
   "metadata": {
    "colab": {
     "base_uri": "https://localhost:8080/",
     "height": 461
    },
    "id": "lcgR6CrgS1Hc",
    "outputId": "230a761c-4bcd-4736-9894-bf0a1dc1231e"
   },
   "outputs": [
    {
     "output_type": "execute_result",
     "data": {
      "text/plain": [
       "                     FECHA DEPARTAMENTO     MUNICIPIO      DIA  \\\n",
       "4041   2021-05-03 23:30:00        CAUCA      EL TAMBO  Domingo   \n",
       "3810   2021-04-26 03:00:00    ANTIOQUIA  SAN JERÓNIMO  Domingo   \n",
       "693    2021-01-19 05:30:00    ANTIOQUIA        SALGAR    Lunes   \n",
       "10796  2021-11-20 03:00:00        VALLE     CALI (CT)  Viernes   \n",
       "138    2021-01-02 06:20:00        CAUCA        SOTARA  Viernes   \n",
       "\n",
       "                   BARRIO    ZONA                      CLASE DE SITIO  \\\n",
       "4041          LA VICTORIA   RURAL         BARES, CANTINAS Y SIMILARES   \n",
       "3810             LA PLAYA  URBANA  HOTELES, RESIDENCIAS, Y SIMILARES.   \n",
       "693             LA HABANA  URBANA                       VIAS PUBLICAS   \n",
       "10796  POTRERO GRANDE E21  URBANA                       VIAS PUBLICAS   \n",
       "138                CENTRO   RURAL                       VIAS PUBLICAS   \n",
       "\n",
       "             ARMA O MEDIO MOVIL VICTIMA MOVIL AGRESOR  EDAD     GENERO  \\\n",
       "4041        ARMA DE FUEGO         A PIE         A PIE  45.0  MASCULINO   \n",
       "3810   CUERDA/SOGA/CADENA         A PIE         A PIE  25.0  MASCULINO   \n",
       "693         ARMA DE FUEGO         A PIE         A PIE  58.0  MASCULINO   \n",
       "10796       ARMA DE FUEGO         A PIE         A PIE  21.0  MASCULINO   \n",
       "138           ARMA BLANCA         A PIE         A PIE  22.0  MASCULINO   \n",
       "\n",
       "      ESTADO CIVIL       CLASE EMPLEADO     PROFESION ESCOLARIDAD PAIS NACE  \\\n",
       "4041   UNION LIBRE           AGRICULTOR  NO REPORTADO    PRIMARIA  COLOMBIA   \n",
       "3810       SOLTERO        INDEPENDIENTE  NO REPORTADO  SECUNDARIA  COLOMBIA   \n",
       "693        SOLTERO           AGRICULTOR  NO REPORTADO    PRIMARIA  COLOMBIA   \n",
       "10796      SOLTERO  EMPLEADO PARTICULAR  NO REPORTADO  SECUNDARIA  COLOMBIA   \n",
       "138        SOLTERO    EMPLEADO EJERCITO  NO REPORTADO  SECUNDARIA  COLOMBIA   \n",
       "\n",
       "      CODIGO DANE AÑO DE NACIMIENTO  CÉDULA                      CORREO  \n",
       "4041   19256000.0            1970.0  10-048        aitufn1227@gmail.com  \n",
       "3810    5656000.0            1990.0  10-048  ibbcpu2509@unidatos.edu.co  \n",
       "693     5642000.0              57.0  10-079  unhoqj1172@unidatos.edu.co  \n",
       "10796  76001000.0            1994.0  10-079  iknnoj8430@unidatos.edu.co  \n",
       "138    19760000.0            1993.0  10-255  cobgqs8819@unidatos.edu.co  "
      ],
      "text/html": [
       "\n",
       "  <div id=\"df-00235e25-455d-44c8-b235-70827e238d09\">\n",
       "    <div class=\"colab-df-container\">\n",
       "      <div>\n",
       "<style scoped>\n",
       "    .dataframe tbody tr th:only-of-type {\n",
       "        vertical-align: middle;\n",
       "    }\n",
       "\n",
       "    .dataframe tbody tr th {\n",
       "        vertical-align: top;\n",
       "    }\n",
       "\n",
       "    .dataframe thead th {\n",
       "        text-align: right;\n",
       "    }\n",
       "</style>\n",
       "<table border=\"1\" class=\"dataframe\">\n",
       "  <thead>\n",
       "    <tr style=\"text-align: right;\">\n",
       "      <th></th>\n",
       "      <th>FECHA</th>\n",
       "      <th>DEPARTAMENTO</th>\n",
       "      <th>MUNICIPIO</th>\n",
       "      <th>DIA</th>\n",
       "      <th>BARRIO</th>\n",
       "      <th>ZONA</th>\n",
       "      <th>CLASE DE SITIO</th>\n",
       "      <th>ARMA O MEDIO</th>\n",
       "      <th>MOVIL VICTIMA</th>\n",
       "      <th>MOVIL AGRESOR</th>\n",
       "      <th>EDAD</th>\n",
       "      <th>GENERO</th>\n",
       "      <th>ESTADO CIVIL</th>\n",
       "      <th>CLASE EMPLEADO</th>\n",
       "      <th>PROFESION</th>\n",
       "      <th>ESCOLARIDAD</th>\n",
       "      <th>PAIS NACE</th>\n",
       "      <th>CODIGO DANE</th>\n",
       "      <th>AÑO DE NACIMIENTO</th>\n",
       "      <th>CÉDULA</th>\n",
       "      <th>CORREO</th>\n",
       "    </tr>\n",
       "  </thead>\n",
       "  <tbody>\n",
       "    <tr>\n",
       "      <th>4041</th>\n",
       "      <td>2021-05-03 23:30:00</td>\n",
       "      <td>CAUCA</td>\n",
       "      <td>EL TAMBO</td>\n",
       "      <td>Domingo</td>\n",
       "      <td>LA VICTORIA</td>\n",
       "      <td>RURAL</td>\n",
       "      <td>BARES, CANTINAS Y SIMILARES</td>\n",
       "      <td>ARMA DE FUEGO</td>\n",
       "      <td>A PIE</td>\n",
       "      <td>A PIE</td>\n",
       "      <td>45.0</td>\n",
       "      <td>MASCULINO</td>\n",
       "      <td>UNION LIBRE</td>\n",
       "      <td>AGRICULTOR</td>\n",
       "      <td>NO REPORTADO</td>\n",
       "      <td>PRIMARIA</td>\n",
       "      <td>COLOMBIA</td>\n",
       "      <td>19256000.0</td>\n",
       "      <td>1970.0</td>\n",
       "      <td>10-048</td>\n",
       "      <td>aitufn1227@gmail.com</td>\n",
       "    </tr>\n",
       "    <tr>\n",
       "      <th>3810</th>\n",
       "      <td>2021-04-26 03:00:00</td>\n",
       "      <td>ANTIOQUIA</td>\n",
       "      <td>SAN JERÓNIMO</td>\n",
       "      <td>Domingo</td>\n",
       "      <td>LA PLAYA</td>\n",
       "      <td>URBANA</td>\n",
       "      <td>HOTELES, RESIDENCIAS, Y SIMILARES.</td>\n",
       "      <td>CUERDA/SOGA/CADENA</td>\n",
       "      <td>A PIE</td>\n",
       "      <td>A PIE</td>\n",
       "      <td>25.0</td>\n",
       "      <td>MASCULINO</td>\n",
       "      <td>SOLTERO</td>\n",
       "      <td>INDEPENDIENTE</td>\n",
       "      <td>NO REPORTADO</td>\n",
       "      <td>SECUNDARIA</td>\n",
       "      <td>COLOMBIA</td>\n",
       "      <td>5656000.0</td>\n",
       "      <td>1990.0</td>\n",
       "      <td>10-048</td>\n",
       "      <td>ibbcpu2509@unidatos.edu.co</td>\n",
       "    </tr>\n",
       "    <tr>\n",
       "      <th>693</th>\n",
       "      <td>2021-01-19 05:30:00</td>\n",
       "      <td>ANTIOQUIA</td>\n",
       "      <td>SALGAR</td>\n",
       "      <td>Lunes</td>\n",
       "      <td>LA HABANA</td>\n",
       "      <td>URBANA</td>\n",
       "      <td>VIAS PUBLICAS</td>\n",
       "      <td>ARMA DE FUEGO</td>\n",
       "      <td>A PIE</td>\n",
       "      <td>A PIE</td>\n",
       "      <td>58.0</td>\n",
       "      <td>MASCULINO</td>\n",
       "      <td>SOLTERO</td>\n",
       "      <td>AGRICULTOR</td>\n",
       "      <td>NO REPORTADO</td>\n",
       "      <td>PRIMARIA</td>\n",
       "      <td>COLOMBIA</td>\n",
       "      <td>5642000.0</td>\n",
       "      <td>57.0</td>\n",
       "      <td>10-079</td>\n",
       "      <td>unhoqj1172@unidatos.edu.co</td>\n",
       "    </tr>\n",
       "    <tr>\n",
       "      <th>10796</th>\n",
       "      <td>2021-11-20 03:00:00</td>\n",
       "      <td>VALLE</td>\n",
       "      <td>CALI (CT)</td>\n",
       "      <td>Viernes</td>\n",
       "      <td>POTRERO GRANDE E21</td>\n",
       "      <td>URBANA</td>\n",
       "      <td>VIAS PUBLICAS</td>\n",
       "      <td>ARMA DE FUEGO</td>\n",
       "      <td>A PIE</td>\n",
       "      <td>A PIE</td>\n",
       "      <td>21.0</td>\n",
       "      <td>MASCULINO</td>\n",
       "      <td>SOLTERO</td>\n",
       "      <td>EMPLEADO PARTICULAR</td>\n",
       "      <td>NO REPORTADO</td>\n",
       "      <td>SECUNDARIA</td>\n",
       "      <td>COLOMBIA</td>\n",
       "      <td>76001000.0</td>\n",
       "      <td>1994.0</td>\n",
       "      <td>10-079</td>\n",
       "      <td>iknnoj8430@unidatos.edu.co</td>\n",
       "    </tr>\n",
       "    <tr>\n",
       "      <th>138</th>\n",
       "      <td>2021-01-02 06:20:00</td>\n",
       "      <td>CAUCA</td>\n",
       "      <td>SOTARA</td>\n",
       "      <td>Viernes</td>\n",
       "      <td>CENTRO</td>\n",
       "      <td>RURAL</td>\n",
       "      <td>VIAS PUBLICAS</td>\n",
       "      <td>ARMA BLANCA</td>\n",
       "      <td>A PIE</td>\n",
       "      <td>A PIE</td>\n",
       "      <td>22.0</td>\n",
       "      <td>MASCULINO</td>\n",
       "      <td>SOLTERO</td>\n",
       "      <td>EMPLEADO EJERCITO</td>\n",
       "      <td>NO REPORTADO</td>\n",
       "      <td>SECUNDARIA</td>\n",
       "      <td>COLOMBIA</td>\n",
       "      <td>19760000.0</td>\n",
       "      <td>1993.0</td>\n",
       "      <td>10-255</td>\n",
       "      <td>cobgqs8819@unidatos.edu.co</td>\n",
       "    </tr>\n",
       "  </tbody>\n",
       "</table>\n",
       "</div>\n",
       "      <button class=\"colab-df-convert\" onclick=\"convertToInteractive('df-00235e25-455d-44c8-b235-70827e238d09')\"\n",
       "              title=\"Convert this dataframe to an interactive table.\"\n",
       "              style=\"display:none;\">\n",
       "        \n",
       "  <svg xmlns=\"http://www.w3.org/2000/svg\" height=\"24px\"viewBox=\"0 0 24 24\"\n",
       "       width=\"24px\">\n",
       "    <path d=\"M0 0h24v24H0V0z\" fill=\"none\"/>\n",
       "    <path d=\"M18.56 5.44l.94 2.06.94-2.06 2.06-.94-2.06-.94-.94-2.06-.94 2.06-2.06.94zm-11 1L8.5 8.5l.94-2.06 2.06-.94-2.06-.94L8.5 2.5l-.94 2.06-2.06.94zm10 10l.94 2.06.94-2.06 2.06-.94-2.06-.94-.94-2.06-.94 2.06-2.06.94z\"/><path d=\"M17.41 7.96l-1.37-1.37c-.4-.4-.92-.59-1.43-.59-.52 0-1.04.2-1.43.59L10.3 9.45l-7.72 7.72c-.78.78-.78 2.05 0 2.83L4 21.41c.39.39.9.59 1.41.59.51 0 1.02-.2 1.41-.59l7.78-7.78 2.81-2.81c.8-.78.8-2.07 0-2.86zM5.41 20L4 18.59l7.72-7.72 1.47 1.35L5.41 20z\"/>\n",
       "  </svg>\n",
       "      </button>\n",
       "      \n",
       "  <style>\n",
       "    .colab-df-container {\n",
       "      display:flex;\n",
       "      flex-wrap:wrap;\n",
       "      gap: 12px;\n",
       "    }\n",
       "\n",
       "    .colab-df-convert {\n",
       "      background-color: #E8F0FE;\n",
       "      border: none;\n",
       "      border-radius: 50%;\n",
       "      cursor: pointer;\n",
       "      display: none;\n",
       "      fill: #1967D2;\n",
       "      height: 32px;\n",
       "      padding: 0 0 0 0;\n",
       "      width: 32px;\n",
       "    }\n",
       "\n",
       "    .colab-df-convert:hover {\n",
       "      background-color: #E2EBFA;\n",
       "      box-shadow: 0px 1px 2px rgba(60, 64, 67, 0.3), 0px 1px 3px 1px rgba(60, 64, 67, 0.15);\n",
       "      fill: #174EA6;\n",
       "    }\n",
       "\n",
       "    [theme=dark] .colab-df-convert {\n",
       "      background-color: #3B4455;\n",
       "      fill: #D2E3FC;\n",
       "    }\n",
       "\n",
       "    [theme=dark] .colab-df-convert:hover {\n",
       "      background-color: #434B5C;\n",
       "      box-shadow: 0px 1px 3px 1px rgba(0, 0, 0, 0.15);\n",
       "      filter: drop-shadow(0px 1px 2px rgba(0, 0, 0, 0.3));\n",
       "      fill: #FFFFFF;\n",
       "    }\n",
       "  </style>\n",
       "\n",
       "      <script>\n",
       "        const buttonEl =\n",
       "          document.querySelector('#df-00235e25-455d-44c8-b235-70827e238d09 button.colab-df-convert');\n",
       "        buttonEl.style.display =\n",
       "          google.colab.kernel.accessAllowed ? 'block' : 'none';\n",
       "\n",
       "        async function convertToInteractive(key) {\n",
       "          const element = document.querySelector('#df-00235e25-455d-44c8-b235-70827e238d09');\n",
       "          const dataTable =\n",
       "            await google.colab.kernel.invokeFunction('convertToInteractive',\n",
       "                                                     [key], {});\n",
       "          if (!dataTable) return;\n",
       "\n",
       "          const docLinkHtml = 'Like what you see? Visit the ' +\n",
       "            '<a target=\"_blank\" href=https://colab.research.google.com/notebooks/data_table.ipynb>data table notebook</a>'\n",
       "            + ' to learn more about interactive tables.';\n",
       "          element.innerHTML = '';\n",
       "          dataTable['output_type'] = 'display_data';\n",
       "          await google.colab.output.renderOutput(dataTable, element);\n",
       "          const docLink = document.createElement('div');\n",
       "          docLink.innerHTML = docLinkHtml;\n",
       "          element.appendChild(docLink);\n",
       "        }\n",
       "      </script>\n",
       "    </div>\n",
       "  </div>\n",
       "  "
      ]
     },
     "metadata": {},
     "execution_count": 70
    }
   ],
   "source": [
    "# Showing some examples\n",
    "duplicates_by_cedula.sort_values(\"CÉDULA\", ascending = True).head(5)"
   ]
  },
  {
   "cell_type": "markdown",
   "metadata": {
    "id": "KHylOMt3S1Hc"
   },
   "source": [
    "<span style=\"color:red\">TODO: Delete records with \"CÉDULA\" duplicated</span>\n",
    "\n",
    "<span style=\"color:red\">Hint: You can use drop_duplicates() pandas function.</span>"
   ]
  },
  {
   "cell_type": "code",
   "execution_count": 71,
   "metadata": {
    "colab": {
     "base_uri": "https://localhost:8080/"
    },
    "id": "VbKJh7tdS1Hc",
    "outputId": "18870944-45eb-43b2-b979-42bb71affde3"
   },
   "outputs": [
    {
     "output_type": "execute_result",
     "data": {
      "text/plain": [
       "(10704, 21)"
      ]
     },
     "metadata": {},
     "execution_count": 71
    }
   ],
   "source": [
    "homicides_df.drop_duplicates(subset = ['CÉDULA'], keep=False, inplace=True)\n",
    "\n",
    "# Verifico ahora el tamaño del dataset, antes tenía 12400 registros, menos la\n",
    "# última fila que fue eliminada (Por el error en el formateo de la fecha) y menos\n",
    "# los 1695 duplicados en la cédula deberíamos tener ahora 10704 registros\n",
    "homicides_df.shape"
   ]
  },
  {
   "cell_type": "code",
   "execution_count": 72,
   "metadata": {
    "id": "jW3cK7hnS1Hc"
   },
   "outputs": [],
   "source": [
    "# Using regular expressions for validating if \"CÉDULA\" values match the pattern XX-XXX\n",
    "cedula_malformed = homicides_df.loc[homicides_df[\"CÉDULA\"].apply(lambda x: (re.match(\"\\d{2}-\\d{3}\", x) is None))]"
   ]
  },
  {
   "cell_type": "code",
   "execution_count": 73,
   "metadata": {
    "colab": {
     "base_uri": "https://localhost:8080/"
    },
    "id": "tzBKRq4US1Hd",
    "outputId": "4914d05c-5b72-4554-8e4d-f702f9b53071"
   },
   "outputs": [
    {
     "output_type": "execute_result",
     "data": {
      "text/plain": [
       "(28, 21)"
      ]
     },
     "metadata": {},
     "execution_count": 73
    }
   ],
   "source": [
    "cedula_malformed.shape"
   ]
  },
  {
   "cell_type": "markdown",
   "source": [
    "Hay 28 registros con la cédula malformada"
   ],
   "metadata": {
    "id": "5n_ubLId98E9"
   }
  },
  {
   "cell_type": "code",
   "execution_count": 74,
   "metadata": {
    "colab": {
     "base_uri": "https://localhost:8080/",
     "height": 461
    },
    "id": "iZuXrfi9S1Hd",
    "outputId": "bf775a09-ac35-4ac5-9e45-f563f67876da"
   },
   "outputs": [
    {
     "output_type": "execute_result",
     "data": {
      "text/plain": [
       "                    FECHA DEPARTAMENTO          MUNICIPIO      DIA  \\\n",
       "172   2021-01-03 11:00:00         META            MESETAS   Sábado   \n",
       "1114  2021-02-01 12:30:00    ATLÁNTICO  BARRANQUILLA (CT)  Domingo   \n",
       "2119  2021-03-06 15:30:00        VALLE          CALI (CT)  Viernes   \n",
       "3309  2021-04-11 10:30:00      CAQUETÁ     FLORENCIA (CT)   Sávado   \n",
       "3409  2021-04-13 23:20:00      CÓRDOBA            SAHAGÚN    Lunes   \n",
       "\n",
       "                            BARRIO    ZONA         CLASE DE SITIO  \\\n",
       "172                VEREDA EL CAFRE   RURAL         ZONA SELVÁTICA   \n",
       "1114                        LA LUZ  URBANA          VIAS PUBLICAS   \n",
       "2119           QUINTAS DEL SOL E14  URBANA  DENTRO DE LA VIVIENDA   \n",
       "3309                   VIA MORELIA   RURAL               CARCELES   \n",
       "3409  CORREGIMIENTO DE BAJO GRANDE  URBANA               BILLARES   \n",
       "\n",
       "          ARMA O MEDIO MOVIL VICTIMA MOVIL AGRESOR  EDAD     GENERO  \\\n",
       "172   MINA ANTIPERSONA         A PIE         A PIE  24.0  MASCULINO   \n",
       "1114     ARMA DE FUEGO         A PIE         A PIE  29.0  MASCULINO   \n",
       "2119       ARMA BLANCA         A PIE         A PIE  20.0   FEMENINO   \n",
       "3309         CORTANTES         A PIE         A PIE  23.0  MASCULINO   \n",
       "3409      CONTUNDENTES         A PIE         A PIE  49.0  MASCULINO   \n",
       "\n",
       "     ESTADO CIVIL       CLASE EMPLEADO     PROFESION ESCOLARIDAD PAIS NACE  \\\n",
       "172       SOLTERO    EMPLEADO EJERCITO  NO REPORTADO  SECUNDARIA  COLOMBIA   \n",
       "1114      SOLTERO        INDEPENDIENTE  NO REPORTADO    PRIMARIA  COLOMBIA   \n",
       "2119  UNION LIBRE  EMPLEADO PARTICULAR  NO REPORTADO  SECUNDARIA  COLOMBIA   \n",
       "3309      SOLTERO        INDEPENDIENTE  NO REPORTADO    PRIMARIA  COLOMBIA   \n",
       "3409      SOLTERO        INDEPENDIENTE  NO REPORTADO  SECUNDARIA  COLOMBIA   \n",
       "\n",
       "     CODIGO DANE AÑO DE NACIMIENTO  CÉDULA                      CORREO  \n",
       "172   50330000.0            1991.0  680-21        oohghd8899@gmail.com  \n",
       "1114   8001000.0            1986.0  140-17  correo5853@colombia.gov.co  \n",
       "2119  76001000.0            1995.0  975-31  ohbqrk3631@unidatos.edu.co  \n",
       "3309  18001000.0            1992.0  348-66  pdkqur8407@unidatos.edu.co  \n",
       "3409  23660000.0            1966.0  496-18  fdbbeo6751@unidatos.edu.co  "
      ],
      "text/html": [
       "\n",
       "  <div id=\"df-fa1324ff-ad36-4b34-90b1-fe1bbb5d7a86\">\n",
       "    <div class=\"colab-df-container\">\n",
       "      <div>\n",
       "<style scoped>\n",
       "    .dataframe tbody tr th:only-of-type {\n",
       "        vertical-align: middle;\n",
       "    }\n",
       "\n",
       "    .dataframe tbody tr th {\n",
       "        vertical-align: top;\n",
       "    }\n",
       "\n",
       "    .dataframe thead th {\n",
       "        text-align: right;\n",
       "    }\n",
       "</style>\n",
       "<table border=\"1\" class=\"dataframe\">\n",
       "  <thead>\n",
       "    <tr style=\"text-align: right;\">\n",
       "      <th></th>\n",
       "      <th>FECHA</th>\n",
       "      <th>DEPARTAMENTO</th>\n",
       "      <th>MUNICIPIO</th>\n",
       "      <th>DIA</th>\n",
       "      <th>BARRIO</th>\n",
       "      <th>ZONA</th>\n",
       "      <th>CLASE DE SITIO</th>\n",
       "      <th>ARMA O MEDIO</th>\n",
       "      <th>MOVIL VICTIMA</th>\n",
       "      <th>MOVIL AGRESOR</th>\n",
       "      <th>EDAD</th>\n",
       "      <th>GENERO</th>\n",
       "      <th>ESTADO CIVIL</th>\n",
       "      <th>CLASE EMPLEADO</th>\n",
       "      <th>PROFESION</th>\n",
       "      <th>ESCOLARIDAD</th>\n",
       "      <th>PAIS NACE</th>\n",
       "      <th>CODIGO DANE</th>\n",
       "      <th>AÑO DE NACIMIENTO</th>\n",
       "      <th>CÉDULA</th>\n",
       "      <th>CORREO</th>\n",
       "    </tr>\n",
       "  </thead>\n",
       "  <tbody>\n",
       "    <tr>\n",
       "      <th>172</th>\n",
       "      <td>2021-01-03 11:00:00</td>\n",
       "      <td>META</td>\n",
       "      <td>MESETAS</td>\n",
       "      <td>Sábado</td>\n",
       "      <td>VEREDA EL CAFRE</td>\n",
       "      <td>RURAL</td>\n",
       "      <td>ZONA SELVÁTICA</td>\n",
       "      <td>MINA ANTIPERSONA</td>\n",
       "      <td>A PIE</td>\n",
       "      <td>A PIE</td>\n",
       "      <td>24.0</td>\n",
       "      <td>MASCULINO</td>\n",
       "      <td>SOLTERO</td>\n",
       "      <td>EMPLEADO EJERCITO</td>\n",
       "      <td>NO REPORTADO</td>\n",
       "      <td>SECUNDARIA</td>\n",
       "      <td>COLOMBIA</td>\n",
       "      <td>50330000.0</td>\n",
       "      <td>1991.0</td>\n",
       "      <td>680-21</td>\n",
       "      <td>oohghd8899@gmail.com</td>\n",
       "    </tr>\n",
       "    <tr>\n",
       "      <th>1114</th>\n",
       "      <td>2021-02-01 12:30:00</td>\n",
       "      <td>ATLÁNTICO</td>\n",
       "      <td>BARRANQUILLA (CT)</td>\n",
       "      <td>Domingo</td>\n",
       "      <td>LA LUZ</td>\n",
       "      <td>URBANA</td>\n",
       "      <td>VIAS PUBLICAS</td>\n",
       "      <td>ARMA DE FUEGO</td>\n",
       "      <td>A PIE</td>\n",
       "      <td>A PIE</td>\n",
       "      <td>29.0</td>\n",
       "      <td>MASCULINO</td>\n",
       "      <td>SOLTERO</td>\n",
       "      <td>INDEPENDIENTE</td>\n",
       "      <td>NO REPORTADO</td>\n",
       "      <td>PRIMARIA</td>\n",
       "      <td>COLOMBIA</td>\n",
       "      <td>8001000.0</td>\n",
       "      <td>1986.0</td>\n",
       "      <td>140-17</td>\n",
       "      <td>correo5853@colombia.gov.co</td>\n",
       "    </tr>\n",
       "    <tr>\n",
       "      <th>2119</th>\n",
       "      <td>2021-03-06 15:30:00</td>\n",
       "      <td>VALLE</td>\n",
       "      <td>CALI (CT)</td>\n",
       "      <td>Viernes</td>\n",
       "      <td>QUINTAS DEL SOL E14</td>\n",
       "      <td>URBANA</td>\n",
       "      <td>DENTRO DE LA VIVIENDA</td>\n",
       "      <td>ARMA BLANCA</td>\n",
       "      <td>A PIE</td>\n",
       "      <td>A PIE</td>\n",
       "      <td>20.0</td>\n",
       "      <td>FEMENINO</td>\n",
       "      <td>UNION LIBRE</td>\n",
       "      <td>EMPLEADO PARTICULAR</td>\n",
       "      <td>NO REPORTADO</td>\n",
       "      <td>SECUNDARIA</td>\n",
       "      <td>COLOMBIA</td>\n",
       "      <td>76001000.0</td>\n",
       "      <td>1995.0</td>\n",
       "      <td>975-31</td>\n",
       "      <td>ohbqrk3631@unidatos.edu.co</td>\n",
       "    </tr>\n",
       "    <tr>\n",
       "      <th>3309</th>\n",
       "      <td>2021-04-11 10:30:00</td>\n",
       "      <td>CAQUETÁ</td>\n",
       "      <td>FLORENCIA (CT)</td>\n",
       "      <td>Sávado</td>\n",
       "      <td>VIA MORELIA</td>\n",
       "      <td>RURAL</td>\n",
       "      <td>CARCELES</td>\n",
       "      <td>CORTANTES</td>\n",
       "      <td>A PIE</td>\n",
       "      <td>A PIE</td>\n",
       "      <td>23.0</td>\n",
       "      <td>MASCULINO</td>\n",
       "      <td>SOLTERO</td>\n",
       "      <td>INDEPENDIENTE</td>\n",
       "      <td>NO REPORTADO</td>\n",
       "      <td>PRIMARIA</td>\n",
       "      <td>COLOMBIA</td>\n",
       "      <td>18001000.0</td>\n",
       "      <td>1992.0</td>\n",
       "      <td>348-66</td>\n",
       "      <td>pdkqur8407@unidatos.edu.co</td>\n",
       "    </tr>\n",
       "    <tr>\n",
       "      <th>3409</th>\n",
       "      <td>2021-04-13 23:20:00</td>\n",
       "      <td>CÓRDOBA</td>\n",
       "      <td>SAHAGÚN</td>\n",
       "      <td>Lunes</td>\n",
       "      <td>CORREGIMIENTO DE BAJO GRANDE</td>\n",
       "      <td>URBANA</td>\n",
       "      <td>BILLARES</td>\n",
       "      <td>CONTUNDENTES</td>\n",
       "      <td>A PIE</td>\n",
       "      <td>A PIE</td>\n",
       "      <td>49.0</td>\n",
       "      <td>MASCULINO</td>\n",
       "      <td>SOLTERO</td>\n",
       "      <td>INDEPENDIENTE</td>\n",
       "      <td>NO REPORTADO</td>\n",
       "      <td>SECUNDARIA</td>\n",
       "      <td>COLOMBIA</td>\n",
       "      <td>23660000.0</td>\n",
       "      <td>1966.0</td>\n",
       "      <td>496-18</td>\n",
       "      <td>fdbbeo6751@unidatos.edu.co</td>\n",
       "    </tr>\n",
       "  </tbody>\n",
       "</table>\n",
       "</div>\n",
       "      <button class=\"colab-df-convert\" onclick=\"convertToInteractive('df-fa1324ff-ad36-4b34-90b1-fe1bbb5d7a86')\"\n",
       "              title=\"Convert this dataframe to an interactive table.\"\n",
       "              style=\"display:none;\">\n",
       "        \n",
       "  <svg xmlns=\"http://www.w3.org/2000/svg\" height=\"24px\"viewBox=\"0 0 24 24\"\n",
       "       width=\"24px\">\n",
       "    <path d=\"M0 0h24v24H0V0z\" fill=\"none\"/>\n",
       "    <path d=\"M18.56 5.44l.94 2.06.94-2.06 2.06-.94-2.06-.94-.94-2.06-.94 2.06-2.06.94zm-11 1L8.5 8.5l.94-2.06 2.06-.94-2.06-.94L8.5 2.5l-.94 2.06-2.06.94zm10 10l.94 2.06.94-2.06 2.06-.94-2.06-.94-.94-2.06-.94 2.06-2.06.94z\"/><path d=\"M17.41 7.96l-1.37-1.37c-.4-.4-.92-.59-1.43-.59-.52 0-1.04.2-1.43.59L10.3 9.45l-7.72 7.72c-.78.78-.78 2.05 0 2.83L4 21.41c.39.39.9.59 1.41.59.51 0 1.02-.2 1.41-.59l7.78-7.78 2.81-2.81c.8-.78.8-2.07 0-2.86zM5.41 20L4 18.59l7.72-7.72 1.47 1.35L5.41 20z\"/>\n",
       "  </svg>\n",
       "      </button>\n",
       "      \n",
       "  <style>\n",
       "    .colab-df-container {\n",
       "      display:flex;\n",
       "      flex-wrap:wrap;\n",
       "      gap: 12px;\n",
       "    }\n",
       "\n",
       "    .colab-df-convert {\n",
       "      background-color: #E8F0FE;\n",
       "      border: none;\n",
       "      border-radius: 50%;\n",
       "      cursor: pointer;\n",
       "      display: none;\n",
       "      fill: #1967D2;\n",
       "      height: 32px;\n",
       "      padding: 0 0 0 0;\n",
       "      width: 32px;\n",
       "    }\n",
       "\n",
       "    .colab-df-convert:hover {\n",
       "      background-color: #E2EBFA;\n",
       "      box-shadow: 0px 1px 2px rgba(60, 64, 67, 0.3), 0px 1px 3px 1px rgba(60, 64, 67, 0.15);\n",
       "      fill: #174EA6;\n",
       "    }\n",
       "\n",
       "    [theme=dark] .colab-df-convert {\n",
       "      background-color: #3B4455;\n",
       "      fill: #D2E3FC;\n",
       "    }\n",
       "\n",
       "    [theme=dark] .colab-df-convert:hover {\n",
       "      background-color: #434B5C;\n",
       "      box-shadow: 0px 1px 3px 1px rgba(0, 0, 0, 0.15);\n",
       "      filter: drop-shadow(0px 1px 2px rgba(0, 0, 0, 0.3));\n",
       "      fill: #FFFFFF;\n",
       "    }\n",
       "  </style>\n",
       "\n",
       "      <script>\n",
       "        const buttonEl =\n",
       "          document.querySelector('#df-fa1324ff-ad36-4b34-90b1-fe1bbb5d7a86 button.colab-df-convert');\n",
       "        buttonEl.style.display =\n",
       "          google.colab.kernel.accessAllowed ? 'block' : 'none';\n",
       "\n",
       "        async function convertToInteractive(key) {\n",
       "          const element = document.querySelector('#df-fa1324ff-ad36-4b34-90b1-fe1bbb5d7a86');\n",
       "          const dataTable =\n",
       "            await google.colab.kernel.invokeFunction('convertToInteractive',\n",
       "                                                     [key], {});\n",
       "          if (!dataTable) return;\n",
       "\n",
       "          const docLinkHtml = 'Like what you see? Visit the ' +\n",
       "            '<a target=\"_blank\" href=https://colab.research.google.com/notebooks/data_table.ipynb>data table notebook</a>'\n",
       "            + ' to learn more about interactive tables.';\n",
       "          element.innerHTML = '';\n",
       "          dataTable['output_type'] = 'display_data';\n",
       "          await google.colab.output.renderOutput(dataTable, element);\n",
       "          const docLink = document.createElement('div');\n",
       "          docLink.innerHTML = docLinkHtml;\n",
       "          element.appendChild(docLink);\n",
       "        }\n",
       "      </script>\n",
       "    </div>\n",
       "  </div>\n",
       "  "
      ]
     },
     "metadata": {},
     "execution_count": 74
    }
   ],
   "source": [
    "cedula_malformed.head(5)"
   ]
  },
  {
   "cell_type": "markdown",
   "metadata": {
    "id": "ZzIq4ML6S1Hd"
   },
   "source": [
    "<span style=\"color:red\">TODO: Fix the malformed \"CÉDULA\" values.</span>"
   ]
  },
  {
   "cell_type": "code",
   "execution_count": 75,
   "metadata": {
    "colab": {
     "base_uri": "https://localhost:8080/"
    },
    "id": "tnoidb0GS1Hd",
    "outputId": "b493cad2-c8e8-4260-c4fe-77fd88bd364a"
   },
   "outputs": [
    {
     "output_type": "execute_result",
     "data": {
      "text/plain": [
       "(0, 21)"
      ]
     },
     "metadata": {},
     "execution_count": 75
    }
   ],
   "source": [
    "# Creo una función para arreglar las cédulas que están mal formadas\n",
    "def fix_malformed_cedula(cedula):\n",
    "  if not re.match(\"\\d{2}-\\d{3}\", cedula):\n",
    "    cedula = cedula.replace('-', '')\n",
    "    cedula = cedula[:2] + '-' + cedula[2:]\n",
    "  return cedula\n",
    "\n",
    "# Aplico la función creada\n",
    "homicides_df['CÉDULA'] = homicides_df['CÉDULA'].apply(fix_malformed_cedula)\n",
    "\n",
    "# Verifico nuevamente la cantidad de cédulas malformadas\n",
    "cedula_malformed = homicides_df.loc[homicides_df[\"CÉDULA\"].apply(lambda x: (re.match(\"\\d{2}-\\d{3}\", x) is None))]\n",
    "cedula_malformed.shape"
   ]
  },
  {
   "cell_type": "markdown",
   "source": [
    "Ya no hay cédulas malformadas"
   ],
   "metadata": {
    "id": "Ma8z9UQDfpT2"
   }
  },
  {
   "cell_type": "markdown",
   "source": [
    "# Ajustando los correos malformados"
   ],
   "metadata": {
    "id": "BL-2jE0guvGa"
   }
  },
  {
   "cell_type": "markdown",
   "metadata": {
    "id": "TfiJ9kozS1Hd"
   },
   "source": [
    "<span style=\"color:red\">TODO: Make something similar to check and fix the \"CORREO\" column (PATTERN: 4 digits before the @, only .edu.co and .com domains are allowed)</span>"
   ]
  },
  {
   "cell_type": "code",
   "execution_count": 76,
   "metadata": {
    "colab": {
     "base_uri": "https://localhost:8080/"
    },
    "id": "fkThsCYNS1Hd",
    "outputId": "0bab6143-47d7-4979-99ea-9b5b1eb4e422"
   },
   "outputs": [
    {
     "output_type": "execute_result",
     "data": {
      "text/plain": [
       "(1983, 21)"
      ]
     },
     "metadata": {},
     "execution_count": 76
    }
   ],
   "source": [
    "# Busco la cantidad de correos que no cumplen con el patrón\n",
    "correo_malformed = homicides_df.loc[homicides_df[\"CORREO\"].apply(lambda x: (re.match(\"[a-zA-Z]+\\d{4}@.*(.edu.co|.com)$\", x) is None))]\n",
    "correo_malformed.shape"
   ]
  },
  {
   "cell_type": "markdown",
   "source": [
    "Hay 1983 correos que no cumplen con la expresión regular"
   ],
   "metadata": {
    "id": "FTqZiaz0-hAs"
   }
  },
  {
   "cell_type": "code",
   "source": [
    "# Imprimo algunos ejemplos de correos malformados\n",
    "correo_malformed.head(5)"
   ],
   "metadata": {
    "colab": {
     "base_uri": "https://localhost:8080/",
     "height": 461
    },
    "id": "AqO2OsIOrnVE",
    "outputId": "89ae4bfe-578e-4b23-b1c5-a1720e3c06f7"
   },
   "execution_count": 77,
   "outputs": [
    {
     "output_type": "execute_result",
     "data": {
      "text/plain": [
       "                  FECHA  DEPARTAMENTO            MUNICIPIO     DIA  \\\n",
       "28  2021-01-01 15:00:00       CAQUETÁ  SAN JOSÉ DEL FRAGUA  Jueces   \n",
       "36  2021-01-01 08:00:00         CAUCA                PATÍA  Jueves   \n",
       "55  2021-01-01 01:30:00  CUNDINAMARCA     BOGOTÁ D.C. (CT)  Jueves   \n",
       "63  2021-01-01 17:53:00  CUNDINAMARCA     BOGOTÁ D.C. (CT)  Jueces   \n",
       "79  2021-01-01 16:00:00        NARIÑO          GUAITARILLA  Jueves   \n",
       "\n",
       "                           BARRIO    ZONA CLASE DE SITIO   ARMA O MEDIO  \\\n",
       "28                         CENTRO  URBANA     DISCOTECAS  ARMA DE FUEGO   \n",
       "36         C/MIENTO PIEDRASENTADA   RURAL      CARRETERA  ARMA DE FUEGO   \n",
       "55      ÁLVARO BERNAL SEGURA E-19  URBANA  VIAS PUBLICAS  ARMA DE FUEGO   \n",
       "63  LA ESTRELLA SECTOR LAGOS E-19  URBANA  VIAS PUBLICAS    ARMA BLANCA   \n",
       "79        VEREDA AHUMADA CHIQUITA   RURAL  VIAS PUBLICAS    ARMA BLANCA   \n",
       "\n",
       "   MOVIL VICTIMA MOVIL AGRESOR  EDAD     GENERO ESTADO CIVIL  \\\n",
       "28         A PIE         A PIE  24.0  MASCULINO  UNION LIBRE   \n",
       "36      VEHICULO         A PIE  26.0  MASCULINO      SOLTERO   \n",
       "55         A PIE         A PIE  25.0  MASCULINO  UNION LIBRE   \n",
       "63         A PIE         A PIE  19.0  MASCULINO      SOLTERO   \n",
       "79         A PIE         A PIE  26.0  MASCULINO  UNION LIBRE   \n",
       "\n",
       "       CLASE EMPLEADO     PROFESION ESCOLARIDAD PAIS NACE CODIGO DANE  \\\n",
       "28      INDEPENDIENTE  NO REPORTADO    PRIMARIA  COLOMBIA  18610000.0   \n",
       "36  EMPLEADO EJERCITO  NO REPORTADO  SECUNDARIA  COLOMBIA  19532000.0   \n",
       "55        DESEMPLEADO  NO REPORTADO  SECUNDARIA  COLOMBIA  11001000.0   \n",
       "63      INDEPENDIENTE  NO REPORTADO  SECUNDARIA  COLOMBIA  11001000.0   \n",
       "79         AGRICULTOR  NO REPORTADO    PRIMARIA  COLOMBIA  52320000.0   \n",
       "\n",
       "   AÑO DE NACIMIENTO  CÉDULA                      CORREO  \n",
       "28            1991.0  94-565   correo975@unidatos.edu.co  \n",
       "36            1989.0  69-084  correo4714@colombia.gov.co  \n",
       "55            1990.0  35-260  correo7285@colombia.gov.co  \n",
       "63            1996.0  45-426   correo102@unidatos.edu.co  \n",
       "79            1989.0  54-950   correo912@unidatos.edu.co  "
      ],
      "text/html": [
       "\n",
       "  <div id=\"df-dfea2056-e5cc-4b90-ad61-60f33a12ecc9\">\n",
       "    <div class=\"colab-df-container\">\n",
       "      <div>\n",
       "<style scoped>\n",
       "    .dataframe tbody tr th:only-of-type {\n",
       "        vertical-align: middle;\n",
       "    }\n",
       "\n",
       "    .dataframe tbody tr th {\n",
       "        vertical-align: top;\n",
       "    }\n",
       "\n",
       "    .dataframe thead th {\n",
       "        text-align: right;\n",
       "    }\n",
       "</style>\n",
       "<table border=\"1\" class=\"dataframe\">\n",
       "  <thead>\n",
       "    <tr style=\"text-align: right;\">\n",
       "      <th></th>\n",
       "      <th>FECHA</th>\n",
       "      <th>DEPARTAMENTO</th>\n",
       "      <th>MUNICIPIO</th>\n",
       "      <th>DIA</th>\n",
       "      <th>BARRIO</th>\n",
       "      <th>ZONA</th>\n",
       "      <th>CLASE DE SITIO</th>\n",
       "      <th>ARMA O MEDIO</th>\n",
       "      <th>MOVIL VICTIMA</th>\n",
       "      <th>MOVIL AGRESOR</th>\n",
       "      <th>EDAD</th>\n",
       "      <th>GENERO</th>\n",
       "      <th>ESTADO CIVIL</th>\n",
       "      <th>CLASE EMPLEADO</th>\n",
       "      <th>PROFESION</th>\n",
       "      <th>ESCOLARIDAD</th>\n",
       "      <th>PAIS NACE</th>\n",
       "      <th>CODIGO DANE</th>\n",
       "      <th>AÑO DE NACIMIENTO</th>\n",
       "      <th>CÉDULA</th>\n",
       "      <th>CORREO</th>\n",
       "    </tr>\n",
       "  </thead>\n",
       "  <tbody>\n",
       "    <tr>\n",
       "      <th>28</th>\n",
       "      <td>2021-01-01 15:00:00</td>\n",
       "      <td>CAQUETÁ</td>\n",
       "      <td>SAN JOSÉ DEL FRAGUA</td>\n",
       "      <td>Jueces</td>\n",
       "      <td>CENTRO</td>\n",
       "      <td>URBANA</td>\n",
       "      <td>DISCOTECAS</td>\n",
       "      <td>ARMA DE FUEGO</td>\n",
       "      <td>A PIE</td>\n",
       "      <td>A PIE</td>\n",
       "      <td>24.0</td>\n",
       "      <td>MASCULINO</td>\n",
       "      <td>UNION LIBRE</td>\n",
       "      <td>INDEPENDIENTE</td>\n",
       "      <td>NO REPORTADO</td>\n",
       "      <td>PRIMARIA</td>\n",
       "      <td>COLOMBIA</td>\n",
       "      <td>18610000.0</td>\n",
       "      <td>1991.0</td>\n",
       "      <td>94-565</td>\n",
       "      <td>correo975@unidatos.edu.co</td>\n",
       "    </tr>\n",
       "    <tr>\n",
       "      <th>36</th>\n",
       "      <td>2021-01-01 08:00:00</td>\n",
       "      <td>CAUCA</td>\n",
       "      <td>PATÍA</td>\n",
       "      <td>Jueves</td>\n",
       "      <td>C/MIENTO PIEDRASENTADA</td>\n",
       "      <td>RURAL</td>\n",
       "      <td>CARRETERA</td>\n",
       "      <td>ARMA DE FUEGO</td>\n",
       "      <td>VEHICULO</td>\n",
       "      <td>A PIE</td>\n",
       "      <td>26.0</td>\n",
       "      <td>MASCULINO</td>\n",
       "      <td>SOLTERO</td>\n",
       "      <td>EMPLEADO EJERCITO</td>\n",
       "      <td>NO REPORTADO</td>\n",
       "      <td>SECUNDARIA</td>\n",
       "      <td>COLOMBIA</td>\n",
       "      <td>19532000.0</td>\n",
       "      <td>1989.0</td>\n",
       "      <td>69-084</td>\n",
       "      <td>correo4714@colombia.gov.co</td>\n",
       "    </tr>\n",
       "    <tr>\n",
       "      <th>55</th>\n",
       "      <td>2021-01-01 01:30:00</td>\n",
       "      <td>CUNDINAMARCA</td>\n",
       "      <td>BOGOTÁ D.C. (CT)</td>\n",
       "      <td>Jueves</td>\n",
       "      <td>ÁLVARO BERNAL SEGURA E-19</td>\n",
       "      <td>URBANA</td>\n",
       "      <td>VIAS PUBLICAS</td>\n",
       "      <td>ARMA DE FUEGO</td>\n",
       "      <td>A PIE</td>\n",
       "      <td>A PIE</td>\n",
       "      <td>25.0</td>\n",
       "      <td>MASCULINO</td>\n",
       "      <td>UNION LIBRE</td>\n",
       "      <td>DESEMPLEADO</td>\n",
       "      <td>NO REPORTADO</td>\n",
       "      <td>SECUNDARIA</td>\n",
       "      <td>COLOMBIA</td>\n",
       "      <td>11001000.0</td>\n",
       "      <td>1990.0</td>\n",
       "      <td>35-260</td>\n",
       "      <td>correo7285@colombia.gov.co</td>\n",
       "    </tr>\n",
       "    <tr>\n",
       "      <th>63</th>\n",
       "      <td>2021-01-01 17:53:00</td>\n",
       "      <td>CUNDINAMARCA</td>\n",
       "      <td>BOGOTÁ D.C. (CT)</td>\n",
       "      <td>Jueces</td>\n",
       "      <td>LA ESTRELLA SECTOR LAGOS E-19</td>\n",
       "      <td>URBANA</td>\n",
       "      <td>VIAS PUBLICAS</td>\n",
       "      <td>ARMA BLANCA</td>\n",
       "      <td>A PIE</td>\n",
       "      <td>A PIE</td>\n",
       "      <td>19.0</td>\n",
       "      <td>MASCULINO</td>\n",
       "      <td>SOLTERO</td>\n",
       "      <td>INDEPENDIENTE</td>\n",
       "      <td>NO REPORTADO</td>\n",
       "      <td>SECUNDARIA</td>\n",
       "      <td>COLOMBIA</td>\n",
       "      <td>11001000.0</td>\n",
       "      <td>1996.0</td>\n",
       "      <td>45-426</td>\n",
       "      <td>correo102@unidatos.edu.co</td>\n",
       "    </tr>\n",
       "    <tr>\n",
       "      <th>79</th>\n",
       "      <td>2021-01-01 16:00:00</td>\n",
       "      <td>NARIÑO</td>\n",
       "      <td>GUAITARILLA</td>\n",
       "      <td>Jueves</td>\n",
       "      <td>VEREDA AHUMADA CHIQUITA</td>\n",
       "      <td>RURAL</td>\n",
       "      <td>VIAS PUBLICAS</td>\n",
       "      <td>ARMA BLANCA</td>\n",
       "      <td>A PIE</td>\n",
       "      <td>A PIE</td>\n",
       "      <td>26.0</td>\n",
       "      <td>MASCULINO</td>\n",
       "      <td>UNION LIBRE</td>\n",
       "      <td>AGRICULTOR</td>\n",
       "      <td>NO REPORTADO</td>\n",
       "      <td>PRIMARIA</td>\n",
       "      <td>COLOMBIA</td>\n",
       "      <td>52320000.0</td>\n",
       "      <td>1989.0</td>\n",
       "      <td>54-950</td>\n",
       "      <td>correo912@unidatos.edu.co</td>\n",
       "    </tr>\n",
       "  </tbody>\n",
       "</table>\n",
       "</div>\n",
       "      <button class=\"colab-df-convert\" onclick=\"convertToInteractive('df-dfea2056-e5cc-4b90-ad61-60f33a12ecc9')\"\n",
       "              title=\"Convert this dataframe to an interactive table.\"\n",
       "              style=\"display:none;\">\n",
       "        \n",
       "  <svg xmlns=\"http://www.w3.org/2000/svg\" height=\"24px\"viewBox=\"0 0 24 24\"\n",
       "       width=\"24px\">\n",
       "    <path d=\"M0 0h24v24H0V0z\" fill=\"none\"/>\n",
       "    <path d=\"M18.56 5.44l.94 2.06.94-2.06 2.06-.94-2.06-.94-.94-2.06-.94 2.06-2.06.94zm-11 1L8.5 8.5l.94-2.06 2.06-.94-2.06-.94L8.5 2.5l-.94 2.06-2.06.94zm10 10l.94 2.06.94-2.06 2.06-.94-2.06-.94-.94-2.06-.94 2.06-2.06.94z\"/><path d=\"M17.41 7.96l-1.37-1.37c-.4-.4-.92-.59-1.43-.59-.52 0-1.04.2-1.43.59L10.3 9.45l-7.72 7.72c-.78.78-.78 2.05 0 2.83L4 21.41c.39.39.9.59 1.41.59.51 0 1.02-.2 1.41-.59l7.78-7.78 2.81-2.81c.8-.78.8-2.07 0-2.86zM5.41 20L4 18.59l7.72-7.72 1.47 1.35L5.41 20z\"/>\n",
       "  </svg>\n",
       "      </button>\n",
       "      \n",
       "  <style>\n",
       "    .colab-df-container {\n",
       "      display:flex;\n",
       "      flex-wrap:wrap;\n",
       "      gap: 12px;\n",
       "    }\n",
       "\n",
       "    .colab-df-convert {\n",
       "      background-color: #E8F0FE;\n",
       "      border: none;\n",
       "      border-radius: 50%;\n",
       "      cursor: pointer;\n",
       "      display: none;\n",
       "      fill: #1967D2;\n",
       "      height: 32px;\n",
       "      padding: 0 0 0 0;\n",
       "      width: 32px;\n",
       "    }\n",
       "\n",
       "    .colab-df-convert:hover {\n",
       "      background-color: #E2EBFA;\n",
       "      box-shadow: 0px 1px 2px rgba(60, 64, 67, 0.3), 0px 1px 3px 1px rgba(60, 64, 67, 0.15);\n",
       "      fill: #174EA6;\n",
       "    }\n",
       "\n",
       "    [theme=dark] .colab-df-convert {\n",
       "      background-color: #3B4455;\n",
       "      fill: #D2E3FC;\n",
       "    }\n",
       "\n",
       "    [theme=dark] .colab-df-convert:hover {\n",
       "      background-color: #434B5C;\n",
       "      box-shadow: 0px 1px 3px 1px rgba(0, 0, 0, 0.15);\n",
       "      filter: drop-shadow(0px 1px 2px rgba(0, 0, 0, 0.3));\n",
       "      fill: #FFFFFF;\n",
       "    }\n",
       "  </style>\n",
       "\n",
       "      <script>\n",
       "        const buttonEl =\n",
       "          document.querySelector('#df-dfea2056-e5cc-4b90-ad61-60f33a12ecc9 button.colab-df-convert');\n",
       "        buttonEl.style.display =\n",
       "          google.colab.kernel.accessAllowed ? 'block' : 'none';\n",
       "\n",
       "        async function convertToInteractive(key) {\n",
       "          const element = document.querySelector('#df-dfea2056-e5cc-4b90-ad61-60f33a12ecc9');\n",
       "          const dataTable =\n",
       "            await google.colab.kernel.invokeFunction('convertToInteractive',\n",
       "                                                     [key], {});\n",
       "          if (!dataTable) return;\n",
       "\n",
       "          const docLinkHtml = 'Like what you see? Visit the ' +\n",
       "            '<a target=\"_blank\" href=https://colab.research.google.com/notebooks/data_table.ipynb>data table notebook</a>'\n",
       "            + ' to learn more about interactive tables.';\n",
       "          element.innerHTML = '';\n",
       "          dataTable['output_type'] = 'display_data';\n",
       "          await google.colab.output.renderOutput(dataTable, element);\n",
       "          const docLink = document.createElement('div');\n",
       "          docLink.innerHTML = docLinkHtml;\n",
       "          element.appendChild(docLink);\n",
       "        }\n",
       "      </script>\n",
       "    </div>\n",
       "  </div>\n",
       "  "
      ]
     },
     "metadata": {},
     "execution_count": 77
    }
   ]
  },
  {
   "cell_type": "code",
   "source": [
    "# Creo una función para detectar cuales son los correos que tienen el error y\n",
    "# poder corregirlos\n",
    "print_examples = 5\n",
    "\n",
    "def fix_malformed_correo(correo):\n",
    "  prev_correo = correo\n",
    "  if not re.match(\"[a-zA-Z]+\\d{4}@.*(.edu.co|.com)$\", correo):\n",
    "    if not re.match(\".*(.edu.co|.com)$\", correo):\n",
    "      # Significa que tiene el error en el dominio\n",
    "      correo = correo.replace('gov.co', 'com')\n",
    "\n",
    "    if not re.match(\"[a-zA-Z]+\\d{4}@.*\", correo):\n",
    "      # Significa que tiene el error en la cantidad de dígitos, no son 4\n",
    "      arroba_index = correo.rindex(\"@\")\n",
    "      number = correo[6:arroba_index]\n",
    "      number_just_4_digits = number[-4:]\n",
    "      if len(number_just_4_digits) < 4:\n",
    "        number_just_4_digits = number_just_4_digits.rjust(4, '0')\n",
    "      correo = 'correo' + number_just_4_digits + correo[arroba_index:]\n",
    "    \n",
    "    global print_examples\n",
    "    if print_examples > 0:\n",
    "      print(f'Antes: {prev_correo}\\tDespués: {correo}')\n",
    "\n",
    "    print_examples = print_examples - 1\n",
    "  return correo\n",
    "\n",
    "# Aplico la función creada\n",
    "print('Algunos ejemplos:')\n",
    "homicides_df['CORREO'] = homicides_df['CORREO'].apply(fix_malformed_correo)"
   ],
   "metadata": {
    "colab": {
     "base_uri": "https://localhost:8080/"
    },
    "id": "iPPwMw-3seML",
    "outputId": "8cb12abb-3dd3-411c-806b-b8fdb74dd470"
   },
   "execution_count": 78,
   "outputs": [
    {
     "output_type": "stream",
     "name": "stdout",
     "text": [
      "Algunos ejemplos:\n",
      "Antes: correo975@unidatos.edu.co\tDespués: correo0975@unidatos.edu.co\n",
      "Antes: correo4714@colombia.gov.co\tDespués: correo4714@colombia.com\n",
      "Antes: correo7285@colombia.gov.co\tDespués: correo7285@colombia.com\n",
      "Antes: correo102@unidatos.edu.co\tDespués: correo0102@unidatos.edu.co\n",
      "Antes: correo912@unidatos.edu.co\tDespués: correo0912@unidatos.edu.co\n"
     ]
    }
   ]
  },
  {
   "cell_type": "code",
   "source": [
    "# Verifico nuevamente la cantidad de correos malformados\n",
    "correo_malformed = homicides_df.loc[homicides_df[\"CORREO\"].apply(lambda x: (re.match(\"[a-zA-Z]+\\d{4}@.*(.edu.co|.com)$\", x) is None))]\n",
    "correo_malformed.shape"
   ],
   "metadata": {
    "colab": {
     "base_uri": "https://localhost:8080/"
    },
    "id": "sbKh7fxWXMzq",
    "outputId": "cf4ea8a3-5f92-4721-d90c-7cb476b00183"
   },
   "execution_count": 79,
   "outputs": [
    {
     "output_type": "execute_result",
     "data": {
      "text/plain": [
       "(0, 21)"
      ]
     },
     "metadata": {},
     "execution_count": 79
    }
   ]
  },
  {
   "cell_type": "markdown",
   "source": [
    "Ya no hay correos malformados"
   ],
   "metadata": {
    "id": "v6Dpn3ltQUME"
   }
  },
  {
   "cell_type": "markdown",
   "source": [
    "# Unificar los días de la semana"
   ],
   "metadata": {
    "id": "_0nwyEFDu5yS"
   }
  },
  {
   "cell_type": "code",
   "execution_count": 80,
   "metadata": {
    "colab": {
     "base_uri": "https://localhost:8080/"
    },
    "id": "ISyGhz_fS1Hd",
    "outputId": "9c699fee-0bfa-427c-b391-3580ca47c683"
   },
   "outputs": [
    {
     "output_type": "execute_result",
     "data": {
      "text/plain": [
       "array(['Jueves', 'Juees', 'Jueces', 'juves', 'Juevrs', 'Viernes',\n",
       "       'Viermes', 'iernes', 'virnes', 'Vierens', 'Sábado', 'Sabadi',\n",
       "       'Sabado', 'sábad', 'Ssbado', 'Domingo', 'Domungo', 'Doningo',\n",
       "       'domungo', 'lune', 'Lunes', 'Luns', 'Lumes', 'kunes', 'Lnues',\n",
       "       'Martes', 'Mates', 'Marte', 'mates', 'Miércoles', 'Miwrcoles',\n",
       "       'Mircoles', 'Voernes', 'Sávado', 'domnigo', 'Maryes', 'Miercoles',\n",
       "       'miércles', 'Dominog', 'Msrtes', 'Mirrcoles'], dtype=object)"
      ]
     },
     "metadata": {},
     "execution_count": 80
    }
   ],
   "source": [
    "# Showing different values for \"DIA\" column\n",
    "homicides_df[\"DIA\"].unique()"
   ]
  },
  {
   "cell_type": "code",
   "execution_count": 81,
   "metadata": {
    "colab": {
     "base_uri": "https://localhost:8080/"
    },
    "id": "EcRJ_MZVS1Hd",
    "outputId": "7e6e4c9d-0d2f-4d6e-b416-9de34f69f497"
   },
   "outputs": [
    {
     "output_type": "execute_result",
     "data": {
      "text/plain": [
       "3"
      ]
     },
     "metadata": {},
     "execution_count": 81
    }
   ],
   "source": [
    "# Calculating the distance between two words using the Levenshtein method\n",
    "pylev.levenshtein('sábado', 'sabaod')"
   ]
  },
  {
   "cell_type": "code",
   "execution_count": 82,
   "metadata": {
    "colab": {
     "base_uri": "https://localhost:8080/"
    },
    "id": "NbsMk6LiS1He",
    "outputId": "026b390f-1170-4726-ca33-95dd1db13537"
   },
   "outputs": [
    {
     "output_type": "execute_result",
     "data": {
      "text/plain": [
       "7"
      ]
     },
     "metadata": {},
     "execution_count": 82
    }
   ],
   "source": [
    "pylev.levenshtein('sábado', 'viernes')"
   ]
  },
  {
   "cell_type": "markdown",
   "metadata": {
    "id": "Xdu0ED6LS1He"
   },
   "source": [
    "<span style=\"color:red\">TODO: Create a function to fix the digitation errors for \"DIA\" column.</span>"
   ]
  },
  {
   "cell_type": "code",
   "execution_count": 83,
   "metadata": {
    "colab": {
     "base_uri": "https://localhost:8080/"
    },
    "id": "bS3SaSUjS1He",
    "outputId": "84e31e11-7920-499f-d103-2d82f269295f"
   },
   "outputs": [
    {
     "output_type": "execute_result",
     "data": {
      "text/plain": [
       "array(['lunes', 'jueves', 'viernes', 'sábado', 'domingo', 'martes',\n",
       "       'miércoles'], dtype=object)"
      ]
     },
     "metadata": {},
     "execution_count": 83
    }
   ],
   "source": [
    "# Creo una función que dependiendo del valor de la distancia devuelto por el\n",
    "# método Levenshtein determine si cambia el día de la semana\n",
    "def get_correct_day_of_the_week(day_of_the_week):\n",
    "  acceptable_distance = 3\n",
    "  if pylev.levenshtein('lunes', day_of_the_week) <= acceptable_distance:\n",
    "    return 'lunes'\n",
    "  elif pylev.levenshtein('martes', day_of_the_week) <= acceptable_distance:\n",
    "    return 'martes'\n",
    "  elif pylev.levenshtein('miércoles', day_of_the_week) <= acceptable_distance:\n",
    "    return 'miércoles'\n",
    "  elif pylev.levenshtein('jueves', day_of_the_week) <= acceptable_distance:\n",
    "    return 'jueves'\n",
    "  elif pylev.levenshtein('viernes', day_of_the_week) <= acceptable_distance:\n",
    "    return 'viernes'\n",
    "  elif pylev.levenshtein('sábado', day_of_the_week) <= acceptable_distance:\n",
    "    return 'sábado'\n",
    "  elif pylev.levenshtein('domingo', day_of_the_week) <= acceptable_distance:\n",
    "    return 'domingo'\n",
    "  else:\n",
    "    return 'bad day'\n",
    "\n",
    "# Aplico la función creada sobre la columna \"DIA\"\n",
    "homicides_df['DIA'] = homicides_df['DIA'].apply(get_correct_day_of_the_week)\n",
    "\n",
    "# Verifico cuales son los valores únicos en la columna \"DIA\"\n",
    "homicides_df['DIA'].unique()"
   ]
  },
  {
   "cell_type": "markdown",
   "source": [
    "Ahora los días de la semana son los 7 correctos"
   ],
   "metadata": {
    "id": "_-aWbf2uRzfX"
   }
  },
  {
   "cell_type": "markdown",
   "source": [
    "# Corregir el año de nacimiento según la edad"
   ],
   "metadata": {
    "id": "mTbKrM8BQeNP"
   }
  },
  {
   "cell_type": "code",
   "execution_count": 84,
   "metadata": {
    "colab": {
     "base_uri": "https://localhost:8080/",
     "height": 363
    },
    "id": "xj3e3t1DS1He",
    "outputId": "d5863244-7194-4ec8-f65d-49c05d56098c"
   },
   "outputs": [
    {
     "output_type": "execute_result",
     "data": {
      "text/plain": [
       "   AÑO DE NACIMIENTO  EDAD\n",
       "1             1985.0  30.0\n",
       "2             1982.0  33.0\n",
       "3             1975.0  40.0\n",
       "4             1949.0  66.0\n",
       "5             1973.0  42.0\n",
       "6             1990.0  25.0\n",
       "7             1978.0  37.0\n",
       "9             1985.0  30.0\n",
       "10            1974.0  41.0\n",
       "11            1985.0  30.0"
      ],
      "text/html": [
       "\n",
       "  <div id=\"df-874dea5f-377a-48da-b230-cec44d412958\">\n",
       "    <div class=\"colab-df-container\">\n",
       "      <div>\n",
       "<style scoped>\n",
       "    .dataframe tbody tr th:only-of-type {\n",
       "        vertical-align: middle;\n",
       "    }\n",
       "\n",
       "    .dataframe tbody tr th {\n",
       "        vertical-align: top;\n",
       "    }\n",
       "\n",
       "    .dataframe thead th {\n",
       "        text-align: right;\n",
       "    }\n",
       "</style>\n",
       "<table border=\"1\" class=\"dataframe\">\n",
       "  <thead>\n",
       "    <tr style=\"text-align: right;\">\n",
       "      <th></th>\n",
       "      <th>AÑO DE NACIMIENTO</th>\n",
       "      <th>EDAD</th>\n",
       "    </tr>\n",
       "  </thead>\n",
       "  <tbody>\n",
       "    <tr>\n",
       "      <th>1</th>\n",
       "      <td>1985.0</td>\n",
       "      <td>30.0</td>\n",
       "    </tr>\n",
       "    <tr>\n",
       "      <th>2</th>\n",
       "      <td>1982.0</td>\n",
       "      <td>33.0</td>\n",
       "    </tr>\n",
       "    <tr>\n",
       "      <th>3</th>\n",
       "      <td>1975.0</td>\n",
       "      <td>40.0</td>\n",
       "    </tr>\n",
       "    <tr>\n",
       "      <th>4</th>\n",
       "      <td>1949.0</td>\n",
       "      <td>66.0</td>\n",
       "    </tr>\n",
       "    <tr>\n",
       "      <th>5</th>\n",
       "      <td>1973.0</td>\n",
       "      <td>42.0</td>\n",
       "    </tr>\n",
       "    <tr>\n",
       "      <th>6</th>\n",
       "      <td>1990.0</td>\n",
       "      <td>25.0</td>\n",
       "    </tr>\n",
       "    <tr>\n",
       "      <th>7</th>\n",
       "      <td>1978.0</td>\n",
       "      <td>37.0</td>\n",
       "    </tr>\n",
       "    <tr>\n",
       "      <th>9</th>\n",
       "      <td>1985.0</td>\n",
       "      <td>30.0</td>\n",
       "    </tr>\n",
       "    <tr>\n",
       "      <th>10</th>\n",
       "      <td>1974.0</td>\n",
       "      <td>41.0</td>\n",
       "    </tr>\n",
       "    <tr>\n",
       "      <th>11</th>\n",
       "      <td>1985.0</td>\n",
       "      <td>30.0</td>\n",
       "    </tr>\n",
       "  </tbody>\n",
       "</table>\n",
       "</div>\n",
       "      <button class=\"colab-df-convert\" onclick=\"convertToInteractive('df-874dea5f-377a-48da-b230-cec44d412958')\"\n",
       "              title=\"Convert this dataframe to an interactive table.\"\n",
       "              style=\"display:none;\">\n",
       "        \n",
       "  <svg xmlns=\"http://www.w3.org/2000/svg\" height=\"24px\"viewBox=\"0 0 24 24\"\n",
       "       width=\"24px\">\n",
       "    <path d=\"M0 0h24v24H0V0z\" fill=\"none\"/>\n",
       "    <path d=\"M18.56 5.44l.94 2.06.94-2.06 2.06-.94-2.06-.94-.94-2.06-.94 2.06-2.06.94zm-11 1L8.5 8.5l.94-2.06 2.06-.94-2.06-.94L8.5 2.5l-.94 2.06-2.06.94zm10 10l.94 2.06.94-2.06 2.06-.94-2.06-.94-.94-2.06-.94 2.06-2.06.94z\"/><path d=\"M17.41 7.96l-1.37-1.37c-.4-.4-.92-.59-1.43-.59-.52 0-1.04.2-1.43.59L10.3 9.45l-7.72 7.72c-.78.78-.78 2.05 0 2.83L4 21.41c.39.39.9.59 1.41.59.51 0 1.02-.2 1.41-.59l7.78-7.78 2.81-2.81c.8-.78.8-2.07 0-2.86zM5.41 20L4 18.59l7.72-7.72 1.47 1.35L5.41 20z\"/>\n",
       "  </svg>\n",
       "      </button>\n",
       "      \n",
       "  <style>\n",
       "    .colab-df-container {\n",
       "      display:flex;\n",
       "      flex-wrap:wrap;\n",
       "      gap: 12px;\n",
       "    }\n",
       "\n",
       "    .colab-df-convert {\n",
       "      background-color: #E8F0FE;\n",
       "      border: none;\n",
       "      border-radius: 50%;\n",
       "      cursor: pointer;\n",
       "      display: none;\n",
       "      fill: #1967D2;\n",
       "      height: 32px;\n",
       "      padding: 0 0 0 0;\n",
       "      width: 32px;\n",
       "    }\n",
       "\n",
       "    .colab-df-convert:hover {\n",
       "      background-color: #E2EBFA;\n",
       "      box-shadow: 0px 1px 2px rgba(60, 64, 67, 0.3), 0px 1px 3px 1px rgba(60, 64, 67, 0.15);\n",
       "      fill: #174EA6;\n",
       "    }\n",
       "\n",
       "    [theme=dark] .colab-df-convert {\n",
       "      background-color: #3B4455;\n",
       "      fill: #D2E3FC;\n",
       "    }\n",
       "\n",
       "    [theme=dark] .colab-df-convert:hover {\n",
       "      background-color: #434B5C;\n",
       "      box-shadow: 0px 1px 3px 1px rgba(0, 0, 0, 0.15);\n",
       "      filter: drop-shadow(0px 1px 2px rgba(0, 0, 0, 0.3));\n",
       "      fill: #FFFFFF;\n",
       "    }\n",
       "  </style>\n",
       "\n",
       "      <script>\n",
       "        const buttonEl =\n",
       "          document.querySelector('#df-874dea5f-377a-48da-b230-cec44d412958 button.colab-df-convert');\n",
       "        buttonEl.style.display =\n",
       "          google.colab.kernel.accessAllowed ? 'block' : 'none';\n",
       "\n",
       "        async function convertToInteractive(key) {\n",
       "          const element = document.querySelector('#df-874dea5f-377a-48da-b230-cec44d412958');\n",
       "          const dataTable =\n",
       "            await google.colab.kernel.invokeFunction('convertToInteractive',\n",
       "                                                     [key], {});\n",
       "          if (!dataTable) return;\n",
       "\n",
       "          const docLinkHtml = 'Like what you see? Visit the ' +\n",
       "            '<a target=\"_blank\" href=https://colab.research.google.com/notebooks/data_table.ipynb>data table notebook</a>'\n",
       "            + ' to learn more about interactive tables.';\n",
       "          element.innerHTML = '';\n",
       "          dataTable['output_type'] = 'display_data';\n",
       "          await google.colab.output.renderOutput(dataTable, element);\n",
       "          const docLink = document.createElement('div');\n",
       "          docLink.innerHTML = docLinkHtml;\n",
       "          element.appendChild(docLink);\n",
       "        }\n",
       "      </script>\n",
       "    </div>\n",
       "  </div>\n",
       "  "
      ]
     },
     "metadata": {},
     "execution_count": 84
    }
   ],
   "source": [
    "homicides_df[['AÑO DE NACIMIENTO', 'EDAD']].head(10)"
   ]
  },
  {
   "cell_type": "markdown",
   "source": [
    "Se puede ver que el año de nacimiento y la edad de la persona cuadran como si estuviéramos en el año 2015"
   ],
   "metadata": {
    "id": "p3qisGTYXuoU"
   }
  },
  {
   "cell_type": "markdown",
   "metadata": {
    "id": "jtCYtTHJS1He"
   },
   "source": [
    "<span style=\"color:red\">TODO: Fix the \"AÑO DE NACIMIENTO\" column using the column \"EDAD\".</span>"
   ]
  },
  {
   "cell_type": "code",
   "execution_count": 85,
   "metadata": {
    "colab": {
     "base_uri": "https://localhost:8080/",
     "height": 363
    },
    "id": "QDbETXqkS1He",
    "outputId": "7936f0cc-3b6f-4831-b748-f3e1a4148344"
   },
   "outputs": [
    {
     "output_type": "execute_result",
     "data": {
      "text/plain": [
       "    AÑO DE NACIMIENTO  EDAD\n",
       "1              1992.0  30.0\n",
       "2              1989.0  33.0\n",
       "3              1982.0  40.0\n",
       "4              1956.0  66.0\n",
       "5              1980.0  42.0\n",
       "6              1997.0  25.0\n",
       "7              1985.0  37.0\n",
       "9              1992.0  30.0\n",
       "10             1981.0  41.0\n",
       "11             1992.0  30.0"
      ],
      "text/html": [
       "\n",
       "  <div id=\"df-0bc0697e-1267-45c2-a995-b6f908d3fa60\">\n",
       "    <div class=\"colab-df-container\">\n",
       "      <div>\n",
       "<style scoped>\n",
       "    .dataframe tbody tr th:only-of-type {\n",
       "        vertical-align: middle;\n",
       "    }\n",
       "\n",
       "    .dataframe tbody tr th {\n",
       "        vertical-align: top;\n",
       "    }\n",
       "\n",
       "    .dataframe thead th {\n",
       "        text-align: right;\n",
       "    }\n",
       "</style>\n",
       "<table border=\"1\" class=\"dataframe\">\n",
       "  <thead>\n",
       "    <tr style=\"text-align: right;\">\n",
       "      <th></th>\n",
       "      <th>AÑO DE NACIMIENTO</th>\n",
       "      <th>EDAD</th>\n",
       "    </tr>\n",
       "  </thead>\n",
       "  <tbody>\n",
       "    <tr>\n",
       "      <th>1</th>\n",
       "      <td>1992.0</td>\n",
       "      <td>30.0</td>\n",
       "    </tr>\n",
       "    <tr>\n",
       "      <th>2</th>\n",
       "      <td>1989.0</td>\n",
       "      <td>33.0</td>\n",
       "    </tr>\n",
       "    <tr>\n",
       "      <th>3</th>\n",
       "      <td>1982.0</td>\n",
       "      <td>40.0</td>\n",
       "    </tr>\n",
       "    <tr>\n",
       "      <th>4</th>\n",
       "      <td>1956.0</td>\n",
       "      <td>66.0</td>\n",
       "    </tr>\n",
       "    <tr>\n",
       "      <th>5</th>\n",
       "      <td>1980.0</td>\n",
       "      <td>42.0</td>\n",
       "    </tr>\n",
       "    <tr>\n",
       "      <th>6</th>\n",
       "      <td>1997.0</td>\n",
       "      <td>25.0</td>\n",
       "    </tr>\n",
       "    <tr>\n",
       "      <th>7</th>\n",
       "      <td>1985.0</td>\n",
       "      <td>37.0</td>\n",
       "    </tr>\n",
       "    <tr>\n",
       "      <th>9</th>\n",
       "      <td>1992.0</td>\n",
       "      <td>30.0</td>\n",
       "    </tr>\n",
       "    <tr>\n",
       "      <th>10</th>\n",
       "      <td>1981.0</td>\n",
       "      <td>41.0</td>\n",
       "    </tr>\n",
       "    <tr>\n",
       "      <th>11</th>\n",
       "      <td>1992.0</td>\n",
       "      <td>30.0</td>\n",
       "    </tr>\n",
       "  </tbody>\n",
       "</table>\n",
       "</div>\n",
       "      <button class=\"colab-df-convert\" onclick=\"convertToInteractive('df-0bc0697e-1267-45c2-a995-b6f908d3fa60')\"\n",
       "              title=\"Convert this dataframe to an interactive table.\"\n",
       "              style=\"display:none;\">\n",
       "        \n",
       "  <svg xmlns=\"http://www.w3.org/2000/svg\" height=\"24px\"viewBox=\"0 0 24 24\"\n",
       "       width=\"24px\">\n",
       "    <path d=\"M0 0h24v24H0V0z\" fill=\"none\"/>\n",
       "    <path d=\"M18.56 5.44l.94 2.06.94-2.06 2.06-.94-2.06-.94-.94-2.06-.94 2.06-2.06.94zm-11 1L8.5 8.5l.94-2.06 2.06-.94-2.06-.94L8.5 2.5l-.94 2.06-2.06.94zm10 10l.94 2.06.94-2.06 2.06-.94-2.06-.94-.94-2.06-.94 2.06-2.06.94z\"/><path d=\"M17.41 7.96l-1.37-1.37c-.4-.4-.92-.59-1.43-.59-.52 0-1.04.2-1.43.59L10.3 9.45l-7.72 7.72c-.78.78-.78 2.05 0 2.83L4 21.41c.39.39.9.59 1.41.59.51 0 1.02-.2 1.41-.59l7.78-7.78 2.81-2.81c.8-.78.8-2.07 0-2.86zM5.41 20L4 18.59l7.72-7.72 1.47 1.35L5.41 20z\"/>\n",
       "  </svg>\n",
       "      </button>\n",
       "      \n",
       "  <style>\n",
       "    .colab-df-container {\n",
       "      display:flex;\n",
       "      flex-wrap:wrap;\n",
       "      gap: 12px;\n",
       "    }\n",
       "\n",
       "    .colab-df-convert {\n",
       "      background-color: #E8F0FE;\n",
       "      border: none;\n",
       "      border-radius: 50%;\n",
       "      cursor: pointer;\n",
       "      display: none;\n",
       "      fill: #1967D2;\n",
       "      height: 32px;\n",
       "      padding: 0 0 0 0;\n",
       "      width: 32px;\n",
       "    }\n",
       "\n",
       "    .colab-df-convert:hover {\n",
       "      background-color: #E2EBFA;\n",
       "      box-shadow: 0px 1px 2px rgba(60, 64, 67, 0.3), 0px 1px 3px 1px rgba(60, 64, 67, 0.15);\n",
       "      fill: #174EA6;\n",
       "    }\n",
       "\n",
       "    [theme=dark] .colab-df-convert {\n",
       "      background-color: #3B4455;\n",
       "      fill: #D2E3FC;\n",
       "    }\n",
       "\n",
       "    [theme=dark] .colab-df-convert:hover {\n",
       "      background-color: #434B5C;\n",
       "      box-shadow: 0px 1px 3px 1px rgba(0, 0, 0, 0.15);\n",
       "      filter: drop-shadow(0px 1px 2px rgba(0, 0, 0, 0.3));\n",
       "      fill: #FFFFFF;\n",
       "    }\n",
       "  </style>\n",
       "\n",
       "      <script>\n",
       "        const buttonEl =\n",
       "          document.querySelector('#df-0bc0697e-1267-45c2-a995-b6f908d3fa60 button.colab-df-convert');\n",
       "        buttonEl.style.display =\n",
       "          google.colab.kernel.accessAllowed ? 'block' : 'none';\n",
       "\n",
       "        async function convertToInteractive(key) {\n",
       "          const element = document.querySelector('#df-0bc0697e-1267-45c2-a995-b6f908d3fa60');\n",
       "          const dataTable =\n",
       "            await google.colab.kernel.invokeFunction('convertToInteractive',\n",
       "                                                     [key], {});\n",
       "          if (!dataTable) return;\n",
       "\n",
       "          const docLinkHtml = 'Like what you see? Visit the ' +\n",
       "            '<a target=\"_blank\" href=https://colab.research.google.com/notebooks/data_table.ipynb>data table notebook</a>'\n",
       "            + ' to learn more about interactive tables.';\n",
       "          element.innerHTML = '';\n",
       "          dataTable['output_type'] = 'display_data';\n",
       "          await google.colab.output.renderOutput(dataTable, element);\n",
       "          const docLink = document.createElement('div');\n",
       "          docLink.innerHTML = docLinkHtml;\n",
       "          element.appendChild(docLink);\n",
       "        }\n",
       "      </script>\n",
       "    </div>\n",
       "  </div>\n",
       "  "
      ]
     },
     "metadata": {},
     "execution_count": 85
    }
   ],
   "source": [
    "from datetime import date\n",
    "\n",
    "# Obtengo el año actual\n",
    "current_year = date.today().year\n",
    "\n",
    "# Aplico una función para calcular el año de nacimiento a partir del año actual\n",
    "# y la edad de la persona\n",
    "homicides_df['AÑO DE NACIMIENTO'] = homicides_df.apply(lambda x: current_year - x.EDAD, axis=1)\n",
    "\n",
    "# Ahora el año de nacimiento ya está corrregido\n",
    "homicides_df[['AÑO DE NACIMIENTO', 'EDAD']].head(10)"
   ]
  },
  {
   "cell_type": "markdown",
   "source": [
    "Los años de nacimiento ya muestran el valor corregido"
   ],
   "metadata": {
    "id": "m9tXXaJS-5Av"
   }
  }
 ],
 "metadata": {
  "kernelspec": {
   "display_name": "Python 3 (ipykernel)",
   "language": "python",
   "name": "python3"
  },
  "language_info": {
   "codemirror_mode": {
    "name": "ipython",
    "version": 3
   },
   "file_extension": ".py",
   "mimetype": "text/x-python",
   "name": "python",
   "nbconvert_exporter": "python",
   "pygments_lexer": "ipython3",
   "version": "3.9.12"
  },
  "colab": {
   "provenance": [],
   "toc_visible": true
  }
 },
 "nbformat": 4,
 "nbformat_minor": 0
}
